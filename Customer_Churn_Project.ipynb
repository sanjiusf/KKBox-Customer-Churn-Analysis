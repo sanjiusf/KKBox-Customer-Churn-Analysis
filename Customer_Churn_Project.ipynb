{
 "cells": [
  {
   "cell_type": "markdown",
   "metadata": {},
   "source": [
    "# **_KKBox Customer Churn Prediction -- Big Data Project -- Group 5_**\n",
    "\n",
    "\n",
    "**Synopsis**:\n",
    "\n",
    "KKBOX is Asia’s leading music streaming service, holding the world’s most comprehensive Asia-Pop music library with over 30 million tracks. They offer a generous, unlimited version of their service to millions of people, supported by advertising and paid subscriptions. This delicate model is dependent on accurately predicting churn of their paid users.In this project we aim to predict the customer churn and find out interesting insights and suggestions to reduce the churn\n",
    "\n",
    "**Reference and Data Source**: https://www.kaggle.com/c/kkbox-churn-prediction-challenge"
   ]
  },
  {
   "cell_type": "markdown",
   "metadata": {},
   "source": [
    "**Data Description**\n",
    "Source : Kaggle\n",
    "\n",
    "1. train_v2.csv\n",
    "    the train set, containing the user ids and whether they have churned.\n",
    "        msno: user id\n",
    "        is_churn: target, is_churn = 1 means churn,is_churn = 0 means renewal.\n",
    "\n",
    "2. transactions_v2.csv\n",
    "        msno: user id\n",
    "        payment_method_id: payment method\n",
    "        payment_plan_days: length of membership plan in days\n",
    "        plan_list_price: in New Taiwan Dollar (NTD)\n",
    "        actual_amount_paid: in New Taiwan Dollar (NTD)\n",
    "        is_auto_renew\n",
    "        transaction_date: format %Y%m%d\n",
    "        membership_expire_date: format %Y%m%d\n",
    "        is_cancel: whether or not the user canceled the membership in this transaction.\n",
    "        \n",
    "3. user_logs_v2.csv\n",
    "    daily user logs describing listening behaviors of a user.\n",
    "        msno: user id\n",
    "        date: format %Y%m%d\n",
    "        num_25: # of songs played less than 25% of the song length\n",
    "        num_50: # of songs played between 25% to 50% of the song length\n",
    "        num_75: # of songs played between 50% to 75% of of the song length\n",
    "        num_985: # of songs played between 75% to 98.5% of the song length\n",
    "        num_100: # of songs played over 98.5% of the song length\n",
    "        num_unq: # of unique songs played\n",
    "        total_secs: total seconds played\n",
    "        \n",
    "4. members_v3.csv\n",
    "    user information:\n",
    "        msno\n",
    "        city\n",
    "        bd: age\n",
    "        gender\n",
    "        registered_via: registration method\n",
    "        registration_init_time: format %Y%m%d\n",
    "        expiration_date: format %Y%m%d\n"
   ]
  },
  {
   "cell_type": "markdown",
   "metadata": {},
   "source": [
    "## **Data Cleaning **"
   ]
  },
  {
   "cell_type": "code",
   "execution_count": 1,
   "metadata": {
    "collapsed": false
   },
   "outputs": [],
   "source": [
    "#Import the necessary libraries\n",
    "\n",
    "from pyspark.sql.types import *\n",
    "from pyspark.sql.functions import *\n",
    "from pyspark.mllib.stat import Statistics\n",
    "from pyspark.ml.stat import ChiSquareTest\n",
    "from pyspark.sql import functions\n",
    "from pyspark.sql.functions import isnan, when, count, col\n",
    "import pandas as pd\n",
    "import numpy as np\n",
    "import matplotlib.pyplot as mplt\n",
    "import matplotlib.ticker as mtick\n",
    "from pyspark.ml.regression import GeneralizedLinearRegression\n",
    "from pyspark.ml import Pipeline\n",
    "from pyspark.ml.classification import RandomForestClassifier, LogisticRegression\n",
    "from pyspark.ml.feature import VectorAssembler, StringIndexer, VectorIndexer, MinMaxScaler, OneHotEncoderEstimator\n",
    "from pyspark.ml.evaluation import BinaryClassificationEvaluator"
   ]
  },
  {
   "cell_type": "code",
   "execution_count": 2,
   "metadata": {
    "collapsed": false
   },
   "outputs": [
    {
     "data": {
      "text/plain": [
       "u'2.4.0'"
      ]
     },
     "execution_count": 2,
     "metadata": {},
     "output_type": "execute_result"
    }
   ],
   "source": [
    "#Create Spark Session\n",
    "spark = SparkSession\\\n",
    "  .builder\\\n",
    "  .appName(\"KKBox Customer Churn Prediction\")\\\n",
    "  .getOrCreate()\n",
    "    \n",
    "spark.version"
   ]
  },
  {
   "cell_type": "code",
   "execution_count": 3,
   "metadata": {
    "collapsed": false
   },
   "outputs": [],
   "source": [
    "#Load the data\n",
    "user_log_schema=StructType([\n",
    "        StructField(\"msno\",StringType(),False),\n",
    "        StructField(\"date\",StringType(),False),\n",
    "        StructField(\"num_25\",IntegerType(),False),\n",
    "        StructField(\"num_50\",IntegerType(),False),\n",
    "        StructField(\"num_985\",IntegerType(),False),\n",
    "        StructField(\"num_100\",IntegerType(),False),\n",
    "        StructField(\"num_unq\",IntegerType(),False),\n",
    "        StructField(\"total_secs\",DoubleType(),False)       \n",
    "    ])\n",
    "#train is used for target variables \n",
    "train=spark.read.csv(\"hdfs://quickstart.cloudera:8020///user/cloudera/data/train_v2.csv\",header=True,sep=\",\")\n",
    "#members information\n",
    "members=spark.read.csv(\"hdfs://quickstart.cloudera:8020/user/cloudera/data/members_v3.csv\",header=True,sep=\",\") \n",
    "#information on transactions\n",
    "transactions=spark.read.csv(\"hdfs://quickstart.cloudera:8020/user/cloudera/data/transactions_v2.csv\",header=True,sep=\",\") \n",
    "#logs of users\n",
    "user_logs=spark.read.csv(\"hdfs://quickstart.cloudera:8020/user/cloudera/data/user_logs_v2.csv\",header=True,sep=\",\",schema=user_log_schema)\n",
    "\n",
    "#Reference: https://www.linkedin.com/pulse/get-your-hands-on-pyspark-solve-kaggle-problems-majid-bahrepour-phd/"
   ]
  },
  {
   "cell_type": "code",
   "execution_count": 4,
   "metadata": {
    "collapsed": false
   },
   "outputs": [
    {
     "name": "stdout",
     "output_type": "stream",
     "text": [
      "+--------------------+--------+------+------+-------+-------+-------+----------+\n",
      "|                msno|    date|num_25|num_50|num_985|num_100|num_unq|total_secs|\n",
      "+--------------------+--------+------+------+-------+-------+-------+----------+\n",
      "|u9E91QDTvHLq6NXjE...|20170331|     8|     4|      0|      1|     21|      18.0|\n",
      "|nTeWW/eOZA/UHKdD5...|20170330|     2|     2|      1|      0|      9|      11.0|\n",
      "|2UqkWXwZbIjs03dHL...|20170331|    52|     3|      5|      3|     84|     110.0|\n",
      "|ycwLc+m2O0a85jSLA...|20170331|   176|     4|      2|      2|     19|     191.0|\n",
      "|EGcbTofOSOkMmQyN1...|20170331|     2|     1|      0|      1|    112|      93.0|\n",
      "|qR/ndQ5B+1cY+c9ih...|20170331|     3|     0|      0|      0|     39|      41.0|\n",
      "|N6ch5ArfJixq9mvAR...|20170330|     9|     1|      0|      0|     18|      26.0|\n",
      "|JEjl2W1ivEI6epeob...|20170331|   181|    68|      5|      3|     54|     291.0|\n",
      "|lPK4IYIFdfTT6pq7x...|20170331|     3|     0|      1|      1|    181|     150.0|\n",
      "|cDgnvwQwCwru2m3zc...|20170331|     5|     4|      1|      1|     30|      31.0|\n",
      "|Cwk7eMLB8Gn8WuzEC...|20170331|     7|     1|      2|      7|     69|      74.0|\n",
      "|6eT/NGMljpNgEeqTY...|20170324|    78|     5|      3|      2|      8|      85.0|\n",
      "|PVoh0C3fQb1qPNLj7...|20170325|     7|     1|      0|      0|     45|      21.0|\n",
      "|cK5XYJqbmsRYasnA4...|20170324|     1|     0|      0|      0|     17|      18.0|\n",
      "|zv12NEuyP2XxcgTDu...|20170325|     5|     3|      2|      1|     34|      43.0|\n",
      "|NCRcE4eNurBdOoRk0...|20170325|    40|     6|      2|      2|    131|     149.0|\n",
      "|q5iH4iDmaFeyz2Zhv...|20170324|     4|     2|      0|      1|     79|      80.0|\n",
      "|dgjSYdCsI6j51myzx...|20170325|     3|     1|      0|      2|    155|     156.0|\n",
      "|Q6XdUeVvsXNF/7o0I...|20170318|     1|     1|      1|      0|    136|     123.0|\n",
      "|TWrqEpm0U75ZWW6CH...|20170317|    18|     1|      2|      3|    170|     162.0|\n",
      "+--------------------+--------+------+------+-------+-------+-------+----------+\n",
      "only showing top 20 rows\n",
      "\n"
     ]
    }
   ],
   "source": [
    "#Understanding the user logs\n",
    "user_logs.show()"
   ]
  },
  {
   "cell_type": "markdown",
   "metadata": {},
   "source": [
    "User Logs consists of the details on the number of songs heard by the user, we further aggregate the song statistics\n",
    "in order to find the aggregate song statistics per user.\n",
    "We are interested in finding whether the songs heard only for 25% of the duration and 100% of the duration have impact on the customer churn\n"
   ]
  },
  {
   "cell_type": "code",
   "execution_count": 5,
   "metadata": {
    "collapsed": false
   },
   "outputs": [
    {
     "name": "stdout",
     "output_type": "stream",
     "text": [
      "+--------------------+---------------+-------+--------+------------------+------------------+\n",
      "|                msno|no_transactions|Total25|Total100|       UniqueSongs|     TotalSecHeard|\n",
      "+--------------------+---------------+-------+--------+------------------+------------------+\n",
      "|qufKUjlo3SOny5C/6...|             20|      4|       8|             74.45|              28.7|\n",
      "|ORUaiH4z66kfVaKGv...|             25|     66|      44|             74.04|             62.56|\n",
      "|43522HpkDYxZI7k9V...|             25|     72|       4|             23.72|              22.0|\n",
      "|nSmTz9Kn4H6Ij9rvI...|             30|    725|     425| 50.13333333333333| 72.86666666666666|\n",
      "|met2zqqAa6vxyrybR...|             31|    344|      40| 37.70967741935484| 37.58064516129032|\n",
      "|kqgPQ80WF4perwl37...|             27|    242|      57|              73.0| 62.18518518518518|\n",
      "|lYI3D0HD5vpAMG10z...|             13|     27|       6| 66.53846153846153|              33.0|\n",
      "|rmLyFqnpTGWuJ/XRL...|             27|    107|     102|13.148148148148149|22.555555555555557|\n",
      "|K+w/cxNRWjOxZJVEQ...|             30|    219|      42|29.933333333333334| 32.46666666666667|\n",
      "|EgudzNJVY0R82U9bb...|             25|     66|      79|               9.6|             13.92|\n",
      "|vGE5iC9V1aeqqLxBo...|             25|    302|      27|             15.32|              25.6|\n",
      "|ktC5ovPNFpwpUPvPy...|             29|    355|      51| 58.37931034482759| 38.62068965517241|\n",
      "|ZLY9+mcqjxq22BeUN...|             28|    284|      56| 65.07142857142857|             48.25|\n",
      "|XFlqNzvbXLYfJSYJV...|             16|    329|      31|              22.5|             42.25|\n",
      "|mmtAb1F20vrQ9ysEJ...|             25|    473|      58|              26.8|             34.56|\n",
      "|UMVGRJ3uKxzHlabWX...|             31|     71|      14|  84.6774193548387| 66.61290322580645|\n",
      "|15TGq0RzAhS+PtDUo...|             31|    263|      81| 41.45161290322581|42.096774193548384|\n",
      "|q0QhO9RaZE+dT360G...|             23|      7|       5| 6.521739130434782|               7.0|\n",
      "|pPgmmxIeL/gmOK/Q5...|             28|     36|      12|14.821428571428571|2.7142857142857144|\n",
      "|qK3yy0H8MKDw8LxGu...|             29|    161|       8| 34.89655172413793|28.620689655172413|\n",
      "+--------------------+---------------+-------+--------+------------------+------------------+\n",
      "only showing top 20 rows\n",
      "\n"
     ]
    }
   ],
   "source": [
    "#find aggregate statistics\n",
    "agg_user_logs=user_logs.groupBy('msno').agg(count(\"msno\").alias('no_transactions'),\n",
    "                                 sum('num_25').alias('Total25'),sum('num_100').alias('Total100'), mean('num_unq').alias('UniqueSongs'),mean('total_secs').alias('TotalSecHeard')\n",
    "                               )\n",
    "\n",
    "agg_user_logs.show()"
   ]
  },
  {
   "cell_type": "markdown",
   "metadata": {},
   "source": [
    "In the dataset, we have two important features namely: membership_expire_date and registration_init_time. In order to consider the impact of the number of days that the user was on board right after registering , we found out the derived variable namely \"DaysOnBoard\" from these two features."
   ]
  },
  {
   "cell_type": "code",
   "execution_count": 6,
   "metadata": {
    "collapsed": false
   },
   "outputs": [
    {
     "name": "stdout",
     "output_type": "stream",
     "text": [
      "+--------------------+---------------+-------+--------+------------------+------------------+-----------------+-----------------+---------------+------------------+-------------+----------------+----------------------+---------+--------+----+---+------+--------------+----------------------+-----------+\n",
      "|                msno|no_transactions|Total25|Total100|       UniqueSongs|     TotalSecHeard|payment_method_id|payment_plan_days|plan_list_price|actual_amount_paid|is_auto_renew|transaction_date|membership_expire_date|is_cancel|is_churn|city| bd|gender|registered_via|registration_init_time|DaysOnBoard|\n",
      "+--------------------+---------------+-------+--------+------------------+------------------+-----------------+-----------------+---------------+------------------+-------------+----------------+----------------------+---------+--------+----+---+------+--------------+----------------------+-----------+\n",
      "|++4RuqBw0Ss6bQU4o...|              1|     14|       0|               9.0|              24.0|               41|               30|            149|               149|            1|      2017-03-13|            2017-04-13|        0|       0|   1|  0|  null|             7|            2014-07-14|       1004|\n",
      "|+/namlXq+u3izRjHC...|             23|    970|      20|30.217391304347824| 72.30434782608695|               34|               30|            149|               149|            1|      2017-03-31|            2017-04-30|        0|       0|  15| 31|  male|             9|            2006-06-03|       3984|\n",
      "|+0/X9tkmyHyet9X80...|             30|    345|      31| 34.96666666666667|24.566666666666666|               34|               30|            149|               149|            1|      2017-03-31|            2017-04-30|        0|       0|   9| 31|  male|             9|            2004-03-30|       4779|\n",
      "|+09YGn842g6h2EZUX...|             24|    100|      14|48.458333333333336|42.541666666666664|               34|               30|            149|               149|            1|      2017-03-31|            2017-04-30|        0|       0|  15| 29|  male|             9|            2008-03-22|       3326|\n",
      "|+0jTOa6KGPk1vtNTw...|             17|     53|      20|15.882352941176471|18.647058823529413|               23|               30|            149|               149|            1|      2017-03-31|            2017-05-03|        0|       0|   5| 24|female|             9|            2014-03-20|       1140|\n",
      "|+0jTOa6KGPk1vtNTw...|             17|     53|      20|15.882352941176471|18.647058823529413|               23|               30|            149|               149|            1|      2017-02-28|            2017-04-03|        0|       0|   5| 24|female|             9|            2014-03-20|       1110|\n",
      "|+0l+FDuhyjaZnu0AP...|             21|    228|      19| 31.38095238095238|36.142857142857146|               37|               30|            149|               149|            1|      2017-03-24|            2017-04-23|        0|       0|  13| 32|  male|             3|            2015-03-16|        769|\n",
      "|+0l/WkoOIugT69NYa...|             12|     26|       2|              10.5|11.583333333333334|               40|               30|            149|               149|            1|      2017-03-23|            2017-04-22|        0|       0|   5|  0|  null|             3|            2013-02-27|       1515|\n",
      "|+2Df04hr61UUJijMM...|             28|     57|      19|209.10714285714286|              24.5|               36|               30|            180|               180|            1|      2017-03-30|            2017-04-04|        1|       1|   6| 31|female|             9|            2008-04-17|       3274|\n",
      "|+2Df04hr61UUJijMM...|             28|     57|      19|209.10714285714286|              24.5|               36|               30|            180|               180|            1|      2017-03-01|            2017-04-04|        0|       1|   6| 31|female|             9|            2008-04-17|       3274|\n",
      "|+2KZws+cYLzerLNA6...|             24|    125|      24|            15.375|              19.5|               29|               30|            180|               180|            1|      2017-03-12|            2017-04-12|        0|       0|   4|  0|  null|             7|            2015-11-03|        526|\n",
      "|+2eLsQv6T46iKwO+m...|             30|    196|      66|15.233333333333333|18.433333333333334|               41|               30|             99|                99|            1|      2017-03-05|            2017-04-05|        0|       0|   1|  0|  null|             7|            2012-12-17|       1570|\n",
      "|+2oK/qWmYvAnfNZsV...|             29|    663|      24|34.310344827586206| 57.96551724137931|               36|               30|            180|               180|            1|      2017-03-20|            2017-04-19|        0|       0|   9| 23|female|             9|            2009-08-25|       2794|\n",
      "|+2sYXqnHWBACTG4Py...|              1|      2|       0|              12.0|              14.0|               36|               30|            180|               180|            1|      2017-03-13|            2017-04-12|        0|       0|   1|  0|  null|             7|            2014-04-24|       1084|\n",
      "|+2vC1rM36Emx77Uan...|              4|     18|       5|              4.25|              12.0|               41|               30|            149|               149|            1|      2017-03-03|            2017-04-03|        0|       0|   1|  0|  null|             7|            2013-10-04|       1277|\n",
      "|+4XdQOd2lqwKAzUkL...|             18|     14|       4|12.333333333333334|12.166666666666666|               30|               30|            100|               100|            1|      2017-03-08|            2017-04-07|        0|       0|   1|  0|  null|             9|            2016-09-08|        211|\n",
      "|+5DvJ9JGZqYFJ+tSv...|              2|      0|       0|              13.5|              13.5|               41|               30|             99|                99|            1|      2017-03-31|            2017-04-30|        0|       0|   1|  0|  null|             7|            2016-12-30|        121|\n",
      "|+5iq4ECBqIcAbIVw0...|              8|     17|       5|             18.25|            17.125|               40|               30|            149|               149|            1|      2017-03-01|            2017-04-06|        0|       0|   5| 62|  male|             3|            2014-05-24|       1048|\n",
      "|+5tihO+uXoVrXxlMx...|             19|     28|       4| 10.68421052631579| 7.421052631578948|               30|               30|            129|               129|            1|      2017-03-13|            2017-04-21|        0|       0|  13|  0|  null|             9|            2016-07-18|        277|\n",
      "|+A0cjGlj9lHusZoz5...|             24|     44|      15| 9.333333333333334| 9.333333333333334|               41|               30|             99|                99|            1|      2017-03-17|            2017-04-17|        0|       0|   1|  0|  null|             7|            2016-09-17|        212|\n",
      "+--------------------+---------------+-------+--------+------------------+------------------+-----------------+-----------------+---------------+------------------+-------------+----------------+----------------------+---------+--------+----+---+------+--------------+----------------------+-----------+\n",
      "only showing top 20 rows\n",
      "\n"
     ]
    }
   ],
   "source": [
    "#Merging the datasets\n",
    "\n",
    "data = agg_user_logs.join(transactions,\"msno\").join(train,\"msno\").join(members, \"msno\")\n",
    "\n",
    "#Data format conversion\n",
    "\n",
    "data =  data.withColumn(\"payment_method_id\", data[\"payment_method_id\"].cast(\"integer\"))\n",
    "data =  data.withColumn(\"payment_plan_days\", data[\"payment_plan_days\"].cast(\"integer\"))\n",
    "data =  data.withColumn(\"plan_list_price\", data[\"plan_list_price\"].cast(\"integer\"))\n",
    "data =  data.withColumn(\"actual_amount_paid\", data[\"actual_amount_paid\"].cast(\"integer\"))\n",
    "data =  data.withColumn(\"is_auto_renew\", data[\"is_auto_renew\"].cast(\"integer\"))\n",
    "data =  data.withColumn(\"transaction_date\",date_format(from_unixtime(unix_timestamp('transaction_date', 'yyyyMMdd')),'yyyy-MM-dd').alias(\"transaction_date\"))\n",
    "data =  data.withColumn(\"membership_expire_date\",date_format(from_unixtime(unix_timestamp('membership_expire_date', 'yyyyMMdd')),'yyyy-MM-dd').alias(\"membership_expire_date\"))\n",
    "data =  data.withColumn(\"registration_init_time\",date_format(from_unixtime(unix_timestamp('registration_init_time', 'yyyyMMdd')),'yyyy-MM-dd').alias(\"registration_init_time\"))\n",
    "data =  data.withColumn(\"is_cancel\", data[\"is_cancel\"].cast(\"integer\"))\n",
    "data =  data.withColumn(\"is_churn\", data[\"is_churn\"].cast(\"integer\"))\n",
    "data =  data.withColumn(\"bd\", data[\"bd\"].cast(\"integer\"))\n",
    "data =  data.withColumn(\"registered_via\", data[\"registered_via\"].cast(\"integer\"))\n",
    "data =  data.withColumn(\"DaysOnBoard\",datediff(data['membership_expire_date'],data['registration_init_time']))\n",
    "\n",
    "data.show()"
   ]
  },
  {
   "cell_type": "code",
   "execution_count": 24,
   "metadata": {
    "collapsed": false
   },
   "outputs": [
    {
     "name": "stdout",
     "output_type": "stream",
     "text": [
      "+---+\n",
      "| bd|\n",
      "+---+\n",
      "|112|\n",
      "|101|\n",
      "+---+\n",
      "only showing top 2 rows\n",
      "\n"
     ]
    }
   ],
   "source": [
    "data.select(\"bd\").where(\"bd > 100\").show(2)"
   ]
  },
  {
   "cell_type": "code",
   "execution_count": 7,
   "metadata": {
    "collapsed": false
   },
   "outputs": [],
   "source": [
    "# As per the data description and the dataframe results above, we need to remove age outliers.\n",
    "churn_data = data.where(\"bd between 15 and 100\")"
   ]
  },
  {
   "cell_type": "code",
   "execution_count": 26,
   "metadata": {
    "collapsed": false
   },
   "outputs": [
    {
     "name": "stdout",
     "output_type": "stream",
     "text": [
      "+----+---------------+-------+--------+-----------+-------------+-----------------+-----------------+---------------+------------------+-------------+----------------+----------------------+---------+--------+----+---+------+--------------+----------------------+-----------+\n",
      "|msno|no_transactions|Total25|Total100|UniqueSongs|TotalSecHeard|payment_method_id|payment_plan_days|plan_list_price|actual_amount_paid|is_auto_renew|transaction_date|membership_expire_date|is_cancel|is_churn|city| bd|gender|registered_via|registration_init_time|DaysOnBoard|\n",
      "+----+---------------+-------+--------+-----------+-------------+-----------------+-----------------+---------------+------------------+-------------+----------------+----------------------+---------+--------+----+---+------+--------------+----------------------+-----------+\n",
      "|   0|              0|      0|       0|          0|            0|                0|                0|              0|                 0|            0|               0|                     0|        0|       0|   0|  0| 12236|             0|                     0|          0|\n",
      "+----+---------------+-------+--------+-----------+-------------+-----------------+-----------------+---------------+------------------+-------------+----------------+----------------------+---------+--------+----+---+------+--------------+----------------------+-----------+\n",
      "\n"
     ]
    }
   ],
   "source": [
    "#Identify if we have nulls in the dataset\n",
    "churn_data.select([count(when(isnan(c) | col(c).isNull(), c)).alias(c) for c in churn_data.columns]).show()"
   ]
  },
  {
   "cell_type": "markdown",
   "metadata": {},
   "source": [
    "We can see that there are significant number of nulls in the gender column, addressing this issue by filling the nulls with \"NA\".\n",
    "It can also be seen that the significant number of users did not reveal their age."
   ]
  },
  {
   "cell_type": "code",
   "execution_count": 8,
   "metadata": {
    "collapsed": false
   },
   "outputs": [
    {
     "name": "stdout",
     "output_type": "stream",
     "text": [
      "+----+---------------+-------+--------+-----------+-------------+-----------------+-----------------+---------------+------------------+-------------+----------------+----------------------+---------+--------+----+---+------+--------------+----------------------+-----------+\n",
      "|msno|no_transactions|Total25|Total100|UniqueSongs|TotalSecHeard|payment_method_id|payment_plan_days|plan_list_price|actual_amount_paid|is_auto_renew|transaction_date|membership_expire_date|is_cancel|is_churn|city| bd|gender|registered_via|registration_init_time|DaysOnBoard|\n",
      "+----+---------------+-------+--------+-----------+-------------+-----------------+-----------------+---------------+------------------+-------------+----------------+----------------------+---------+--------+----+---+------+--------------+----------------------+-----------+\n",
      "|   0|              0|      0|       0|          0|            0|                0|                0|              0|                 0|            0|               0|                     0|        0|       0|   0|  0|     0|             0|                     0|          0|\n",
      "+----+---------------+-------+--------+-----------+-------------+-----------------+-----------------+---------------+------------------+-------------+----------------+----------------------+---------+--------+----+---+------+--------------+----------------------+-----------+\n",
      "\n"
     ]
    }
   ],
   "source": [
    "colNames = [\"gender\"]\n",
    "churn_data = churn_data.na.fill(\"NA\", colNames)\n",
    "\n",
    "#Verify if we have removed the nulls\n",
    "churn_data.select([count(when(isnan(c) | col(c).isNull(), c)).alias(c) for c in churn_data.columns]).show()"
   ]
  },
  {
   "cell_type": "markdown",
   "metadata": {},
   "source": [
    "## Feature Selection"
   ]
  },
  {
   "cell_type": "code",
   "execution_count": 9,
   "metadata": {
    "collapsed": false
   },
   "outputs": [
    {
     "name": "stdout",
     "output_type": "stream",
     "text": [
      "                     Total25  Total100  UniqueSongs  TotalSecHeard  payment_plan_days  plan_list_price  actual_amount_paid  DaysOnBoard        bd\n",
      "Total25             1.000000  0.360093     0.125786       0.415742           0.024959         0.022536            0.022623    -0.063588 -0.132160\n",
      "Total100            0.360093  1.000000     0.204415       0.323647           0.016190         0.017449            0.017816    -0.029262 -0.090366\n",
      "UniqueSongs         0.125786  0.204415     1.000000       0.793036           0.013891         0.015785            0.015807    -0.002556 -0.000752\n",
      "TotalSecHeard       0.415742  0.323647     0.793036       1.000000           0.027252         0.025453            0.025431    -0.024865 -0.061943\n",
      "payment_plan_days   0.024959  0.016190     0.013891       0.027252           1.000000         0.950819            0.948974    -0.015572 -0.048065\n",
      "plan_list_price     0.022536  0.017449     0.015785       0.025453           0.950819         1.000000            0.997051     0.009213 -0.034597\n",
      "actual_amount_paid  0.022623  0.017816     0.015807       0.025431           0.948974         0.997051            1.000000     0.012518 -0.032507\n",
      "DaysOnBoard        -0.063588 -0.029262    -0.002556      -0.024865          -0.015572         0.009213            0.012518     1.000000  0.270682\n",
      "bd                 -0.132160 -0.090366    -0.000752      -0.061943          -0.048065        -0.034597           -0.032507     0.270682  1.000000\n"
     ]
    }
   ],
   "source": [
    "#Find the correlation between the independent variables\n",
    "features = churn_data.select(\"Total25\",\"Total100\",\"UniqueSongs\",\"TotalSecHeard\",\"payment_plan_days\",\"plan_list_price\",\"actual_amount_paid\",\"DaysOnBoard\",\"bd\")\n",
    "features1=features.rdd.map(lambda x: x[0:])\n",
    "corr_mat=Statistics.corr(features1, method=\"pearson\")\n",
    "corr_df = pd.DataFrame(corr_mat)\n",
    "\n",
    "corr_df.index = (\"Total25\",\"Total100\",\"UniqueSongs\",\"TotalSecHeard\",\"payment_plan_days\",\"plan_list_price\",\"actual_amount_paid\",\"DaysOnBoard\",\"bd\")\n",
    "corr_df.columns= (\"Total25\",\"Total100\",\"UniqueSongs\",\"TotalSecHeard\",\"payment_plan_days\",\"plan_list_price\",\"actual_amount_paid\",\"DaysOnBoard\",\"bd\")\n",
    "\n",
    "print(corr_df.to_string())"
   ]
  },
  {
   "cell_type": "markdown",
   "metadata": {},
   "source": [
    "It can be seen that there is a strong correlation between plan_list_price and actual_amount_paid. In order to overcome this scenario we further derive another variable namely Discount which is the difference between what the user actually paid from the listed price. We want to further analyze whether this has any impact on the churning."
   ]
  },
  {
   "cell_type": "code",
   "execution_count": 10,
   "metadata": {
    "collapsed": false
   },
   "outputs": [
    {
     "name": "stdout",
     "output_type": "stream",
     "text": [
      "+--------------------+---------------+-------+--------+------------------+------------------+-----------------+-----------------+---------------+------------------+-------------+----------------+----------------------+---------+--------+----+---+------+--------------+----------------------+-----------+--------+\n",
      "|                msno|no_transactions|Total25|Total100|       UniqueSongs|     TotalSecHeard|payment_method_id|payment_plan_days|plan_list_price|actual_amount_paid|is_auto_renew|transaction_date|membership_expire_date|is_cancel|is_churn|city| bd|gender|registered_via|registration_init_time|DaysOnBoard|Discount|\n",
      "+--------------------+---------------+-------+--------+------------------+------------------+-----------------+-----------------+---------------+------------------+-------------+----------------+----------------------+---------+--------+----+---+------+--------------+----------------------+-----------+--------+\n",
      "|z8bjSNtBJlL1ApYmO...|             27|    312|      63|              28.0|37.629629629629626|               41|                0|              0|               149|            1|      2015-05-09|            2017-09-15|        0|       0|   4| 25|  male|             7|            2012-08-30|       1842|     149|\n",
      "|hUsz7k5heGFJQn0hi...|             31|    108|      16| 35.67741935483871|38.774193548387096|               41|                0|              0|               129|            1|      2015-05-10|            2017-08-08|        0|       0|   8| 28|female|             7|            2013-03-16|       1606|     129|\n",
      "|eznZs4tHUqFEFMcFs...|              1|      1|       0|               3.0|               6.0|               41|                0|              0|               149|            1|      2015-05-13|            2017-09-12|        0|       0|  10| 34|female|             7|            2013-03-14|       1643|     149|\n",
      "|eznZs4tHUqFEFMcFs...|              1|      1|       0|               3.0|               6.0|               41|                0|              0|               149|            1|      2015-05-13|            2017-08-12|        0|       0|  10| 34|female|             7|            2013-03-14|       1612|     149|\n",
      "|fgOL8pEfxvC7zasqC...|             22|     50|       5|              12.5| 9.409090909090908|               41|                0|              0|               149|            1|      2015-05-10|            2018-10-08|        0|       0|   9| 29|female|             7|            2013-07-11|       1915|     149|\n",
      "|fgOL8pEfxvC7zasqC...|             22|     50|       5|              12.5| 9.409090909090908|               41|                0|              0|               149|            1|      2015-04-25|            2018-08-07|        0|       0|   9| 29|female|             7|            2013-07-11|       1853|     149|\n",
      "|fgOL8pEfxvC7zasqC...|             22|     50|       5|              12.5| 9.409090909090908|               41|                0|              0|               149|            1|      2015-05-10|            2018-09-07|        0|       0|   9| 29|female|             7|            2013-07-11|       1884|     149|\n",
      "|7zVj7hq7W8ivp72I4...|             29|     94|       3|120.24137931034483| 52.41379310344828|               41|                0|              0|               149|            1|      2015-05-08|            2018-06-07|        0|       0|   6| 28|  male|             7|            2013-05-08|       1856|     149|\n",
      "|7zVj7hq7W8ivp72I4...|             29|     94|       3|120.24137931034483| 52.41379310344828|               41|                0|              0|               149|            1|      2015-05-09|            2018-05-08|        1|       0|   6| 28|  male|             7|            2013-05-08|       1826|     149|\n",
      "|7zVj7hq7W8ivp72I4...|             29|     94|       3|120.24137931034483| 52.41379310344828|               41|                0|              0|               149|            1|      2015-05-07|            2018-05-07|        0|       0|   6| 28|  male|             7|            2013-05-08|       1825|     149|\n",
      "|7zVj7hq7W8ivp72I4...|             29|     94|       3|120.24137931034483| 52.41379310344828|               41|                0|              0|               129|            1|      2015-05-09|            2018-06-08|        0|       0|   6| 28|  male|             7|            2013-05-08|       1857|     129|\n",
      "|7zVj7hq7W8ivp72I4...|             29|     94|       3|120.24137931034483| 52.41379310344828|               41|                0|              0|               149|            1|      2015-05-05|            2018-04-06|        0|       0|   6| 28|  male|             7|            2013-05-08|       1794|     149|\n",
      "|SRQebyJVRSx554wMS...|             26|     37|      15|20.576923076923077|16.192307692307693|               41|                0|              0|               149|            1|      2015-04-27|            2017-07-26|        0|       0|   9| 28|  male|             7|            2013-03-28|       1581|     149|\n",
      "|SRQebyJVRSx554wMS...|             26|     37|      15|20.576923076923077|16.192307692307693|               41|                0|              0|               149|            1|      2015-04-27|            2017-06-26|        0|       0|   9| 28|  male|             7|            2013-03-28|       1551|     149|\n",
      "|E/tuGLoS5xcQS3gBs...|             11|     39|       9| 8.363636363636363|10.727272727272727|               41|                0|              0|               149|            1|      2015-05-13|            2017-08-12|        0|       0|   7| 30|female|             7|            2011-06-10|       2255|     149|\n",
      "|E/tuGLoS5xcQS3gBs...|             11|     39|       9| 8.363636363636363|10.727272727272727|               41|                0|              0|               149|            1|      2015-05-13|            2017-09-12|        0|       0|   7| 30|female|             7|            2011-06-10|       2286|     149|\n",
      "|9ijNnMDJNDX//A+50...|             21|     66|      17|17.761904761904763|15.857142857142858|               41|                0|              0|               149|            1|      2015-05-03|            2017-04-02|        0|       0|  15| 29|  male|             7|            2011-04-12|       2182|     149|\n",
      "|HSO/ktUvmTXxG8xv0...|             31|    155|      26| 76.87096774193549| 78.87096774193549|               41|                0|              0|               149|            1|      2015-05-13|            2017-08-12|        0|       0|   5| 25|female|             7|            2013-03-14|       1612|     149|\n",
      "|HSO/ktUvmTXxG8xv0...|             31|    155|      26| 76.87096774193549| 78.87096774193549|               41|                0|              0|               149|            1|      2015-05-13|            2017-09-12|        0|       0|   5| 25|female|             7|            2013-03-14|       1643|     149|\n",
      "|WGgu+9Emwe+/gcN0b...|              7|     52|       6|13.857142857142858|21.571428571428573|               41|                0|              0|               129|            1|      2015-04-30|            2017-06-21|        0|       0|  22| 40|  male|             7|            2011-01-31|       2333|     129|\n",
      "+--------------------+---------------+-------+--------+------------------+------------------+-----------------+-----------------+---------------+------------------+-------------+----------------+----------------------+---------+--------+----+---+------+--------------+----------------------+-----------+--------+\n",
      "only showing top 20 rows\n",
      "\n"
     ]
    }
   ],
   "source": [
    "#Find out if there was a discount provided to the user\n",
    "churn_data = churn_data.withColumn(\"Discount\", churn_data['actual_amount_paid']-churn_data['plan_list_price'])\n",
    "churn_data.where(\"Discount > 0\").show()\n",
    "\n",
    "#dropping unrequired columns: \n",
    "columns_to_drop = ['membership_expire_date', 'registration_init_time', 'actual_amount_paid', 'plan_list_price' ]\n",
    "churn_data = churn_data.drop(*columns_to_drop)\n"
   ]
  },
  {
   "cell_type": "code",
   "execution_count": 31,
   "metadata": {
    "collapsed": false
   },
   "outputs": [
    {
     "data": {
      "text/plain": [
       "DataFrame[summary: string, msno: string, no_transactions: string, Total25: string, Total100: string, UniqueSongs: string, TotalSecHeard: string, payment_method_id: string, payment_plan_days: string, is_auto_renew: string, transaction_date: string, is_cancel: string, is_churn: string, city: string, bd: string, gender: string, registered_via: string, DaysOnBoard: string, Discount: string]"
      ]
     },
     "execution_count": 31,
     "metadata": {},
     "output_type": "execute_result"
    }
   ],
   "source": [
    "#Data after cleaning and feature selection\n",
    "churn_data.describe()"
   ]
  },
  {
   "cell_type": "markdown",
   "metadata": {},
   "source": [
    "### Feature Visualization"
   ]
  },
  {
   "cell_type": "markdown",
   "metadata": {},
   "source": [
    "We want to understand the frequency of our target variable: is_churn and the derviced variables namely Discount and daysOnBoard."
   ]
  },
  {
   "cell_type": "code",
   "execution_count": 32,
   "metadata": {
    "collapsed": true
   },
   "outputs": [],
   "source": [
    "#Function to plot the histograms\n",
    "def plotHistogramData(data, xlabel = \"Bins\", ylabel =\"Frequencies\"):\n",
    "    binSides, binCounts = data\n",
    "\n",
    "    N = len(binCounts)\n",
    "    ind = np.arange(N)\n",
    "    width = 1\n",
    "\n",
    "    fig, ax = mplt.subplots()\n",
    "    rects1 = ax.bar(ind+0.5, binCounts, width, color='b')\n",
    "\n",
    "    ax.set_ylabel(ylabel)\n",
    "    ax.set_xlabel(xlabel)\n",
    "    ax.set_title('Histogram')\n",
    "    ax.set_xticks(np.arange(N+1))\n",
    "    ax.set_xticklabels(binSides)\n",
    "    mplt.show()\n",
    "    "
   ]
  },
  {
   "cell_type": "code",
   "execution_count": 33,
   "metadata": {
    "collapsed": false
   },
   "outputs": [
    {
     "data": {
      "image/png": "[encoded data removed]",
      "text/plain": [
       "<matplotlib.figure.Figure at 0x7f3b3020cd10>"
      ]
     },
     "metadata": {},
     "output_type": "display_data"
    }
   ],
   "source": [
    "data = churn_data.select('is_churn').rdd.flatMap(lambda x: x).histogram(2)\n",
    "plotHistogramData(data, \"Churn\", \"Frequency\")"
   ]
  },
  {
   "cell_type": "code",
   "execution_count": 38,
   "metadata": {
    "collapsed": false
   },
   "outputs": [
    {
     "data": {
      "image/png": "[encoded data removed]",
      "text/plain": [
       "<matplotlib.figure.Figure at 0x7f3b2d8a84d0>"
      ]
     },
     "metadata": {},
     "output_type": "display_data"
    }
   ],
   "source": [
    "data = churn_data.select('Discount').rdd.flatMap(lambda x: x).histogram(10)\n",
    "plotHistogramData(data, \"Discount\", \"Frequency\")"
   ]
  },
  {
   "cell_type": "code",
   "execution_count": 35,
   "metadata": {
    "collapsed": false
   },
   "outputs": [
    {
     "data": {
      "image/png": "[encoded data removed]",
      "text/plain": [
       "<matplotlib.figure.Figure at 0x7f3b2d9d7210>"
      ]
     },
     "metadata": {},
     "output_type": "display_data"
    }
   ],
   "source": [
    "data = churn_data.select('DaysOnBoard').rdd.flatMap(lambda x: x).histogram(10)\n",
    "plotHistogramData(data, \"DaysOnBoard\", \"Frequency\")"
   ]
  },
  {
   "cell_type": "markdown",
   "metadata": {},
   "source": [
    "We can see from the histograms that our target variable is skewed while the DaysOnBoard is indicating that the there is high variance with the regards to the duration that the users subscribe to the KKBox services. While the doscount indicates that not much discount is being provided to the users"
   ]
  },
  {
   "cell_type": "markdown",
   "metadata": {},
   "source": [
    "Let us visualize the impact of some of the features on the customer churn"
   ]
  },
  {
   "cell_type": "code",
   "execution_count": 39,
   "metadata": {
    "collapsed": false
   },
   "outputs": [
    {
     "name": "stdout",
     "output_type": "stream",
     "text": [
      "+-----------------+---+----+----+----+---+---+---+---+------+---+---+---+---+---+\n",
      "|is_churn_Discount| -1|-129|-149|-180|-20|-30|-50|-99|     0|  1|100|119|129|149|\n",
      "+-----------------+---+----+----+----+---+---+---+---+------+---+---+---+---+---+\n",
      "|                1|  0|   2| 476| 720| 15| 70| 28|  1| 52234| 46|  0|  9|  2| 26|\n",
      "|                0|  1|   1| 133|1385|150|625|396|  2|387748|  0|  2| 56| 33|314|\n",
      "+-----------------+---+----+----+----+---+---+---+---+------+---+---+---+---+---+\n",
      "\n"
     ]
    }
   ],
   "source": [
    "#Using Pyspark ml crosstab functionality\n",
    "churn_data.stat.crosstab(\"is_churn\", \"Discount\").show()"
   ]
  },
  {
   "cell_type": "code",
   "execution_count": 42,
   "metadata": {
    "collapsed": false
   },
   "outputs": [
    {
     "name": "stdout",
     "output_type": "stream",
     "text": [
      "+---------------+----+------+------+\n",
      "|is_churn_gender|  NA|female|  male|\n",
      "+---------------+----+------+------+\n",
      "|              1|3878| 23802| 25949|\n",
      "|              0|8358|181980|200508|\n",
      "+---------------+----+------+------+\n",
      "\n"
     ]
    }
   ],
   "source": [
    "churn_data.stat.crosstab(\"is_churn\", \"gender\").show()"
   ]
  },
  {
   "cell_type": "code",
   "execution_count": 47,
   "metadata": {
    "collapsed": false
   },
   "outputs": [
    {
     "name": "stdout",
     "output_type": "stream",
     "text": [
      "+------------------+------+----+\n",
      "|is_churn_is_cancel|     0|   1|\n",
      "+------------------+------+----+\n",
      "|                 1| 47519|6110|\n",
      "|                 0|384886|5960|\n",
      "+------------------+------+----+\n",
      "\n"
     ]
    }
   ],
   "source": [
    "churn_data.stat.crosstab(\"is_churn\", \"is_cancel\").show()"
   ]
  },
  {
   "cell_type": "code",
   "execution_count": 44,
   "metadata": {
    "collapsed": false
   },
   "outputs": [
    {
     "data": {
      "image/png": "[encoded data removed]",
      "text/plain": [
       "<matplotlib.figure.Figure at 0x7f3b3019fd10>"
      ]
     },
     "metadata": {},
     "output_type": "display_data"
    }
   ],
   "source": [
    "#Using pandas to visualize \n",
    "churn_EDA = churn_data.toPandas()\n",
    "crosstabPD=pd.crosstab(churn_EDA['Discount'],churn_EDA['is_churn'])\n",
    "crosstabPD.plot.bar(stacked = True)\n",
    "mplt.legend(title='mark')\n",
    "mplt.show()\n"
   ]
  },
  {
   "cell_type": "code",
   "execution_count": 45,
   "metadata": {
    "collapsed": false
   },
   "outputs": [
    {
     "data": {
      "image/png": "[encoded data removed]",
      "text/plain": [
       "<matplotlib.figure.Figure at 0x7f3b3019fa90>"
      ]
     },
     "metadata": {},
     "output_type": "display_data"
    }
   ],
   "source": [
    "crosstabPD=pd.crosstab(churn_EDA['gender'],churn_EDA['is_churn'])\n",
    "crosstabPD.plot.bar(stacked = True)\n",
    "mplt.legend(title='mark')\n",
    "mplt.show()"
   ]
  },
  {
   "cell_type": "code",
   "execution_count": 46,
   "metadata": {
    "collapsed": false
   },
   "outputs": [
    {
     "data": {
      "image/png": "[encoded data removed]",
      "text/plain": [
       "<matplotlib.figure.Figure at 0x7f3b30478a90>"
      ]
     },
     "metadata": {},
     "output_type": "display_data"
    }
   ],
   "source": [
    "crosstabPD=pd.crosstab(churn_EDA['is_cancel'],churn_EDA['is_churn'])\n",
    "crosstabPD.plot.bar(stacked = True)\n",
    "mplt.legend(title='mark')\n",
    "mplt.show()"
   ]
  },
  {
   "cell_type": "markdown",
   "metadata": {},
   "source": [
    "## Feature Importance"
   ]
  },
  {
   "cell_type": "markdown",
   "metadata": {},
   "source": [
    "In order to calculate and select the final variables for our analysis we use the GeneralizedLinearRegression to calculate the Pvalues and select the important features"
   ]
  },
  {
   "cell_type": "code",
   "execution_count": 11,
   "metadata": {
    "collapsed": false
   },
   "outputs": [
    {
     "data": {
      "text/plain": [
       "DataFrame[summary: string, msno: string, no_transactions: string, Total25: string, Total100: string, UniqueSongs: string, TotalSecHeard: string, payment_method_id: string, payment_plan_days: string, is_auto_renew: string, transaction_date: string, is_cancel: string, is_churn: string, city: string, bd: string, registered_via: string, DaysOnBoard: string, Discount: string, gender_indexed: string]"
      ]
     },
     "execution_count": 11,
     "metadata": {},
     "output_type": "execute_result"
    }
   ],
   "source": [
    "# Constructing the features as aspected by the Models\n",
    "\n",
    "#Handle gender categorical variable:\n",
    "gender_index=StringIndexer().setInputCol(\"gender\").setOutputCol(\"gender_indexed\")\n",
    "# transform\n",
    "churn_data=gender_index.fit(churn_data).transform(churn_data)\n",
    "#we are only interested in the indexed gender\n",
    "churn_data = churn_data.drop(\"gender\")\n",
    "\n",
    "churn_data.describe()"
   ]
  },
  {
   "cell_type": "code",
   "execution_count": 12,
   "metadata": {
    "collapsed": false
   },
   "outputs": [
    {
     "name": "stdout",
     "output_type": "stream",
     "text": [
      "+--------------------+\n",
      "|            features|\n",
      "+--------------------+\n",
      "|[23.0,970.0,20.0,...|\n",
      "|[30.0,345.0,31.0,...|\n",
      "+--------------------+\n",
      "only showing top 2 rows\n",
      "\n"
     ]
    }
   ],
   "source": [
    "assembler=VectorAssembler(inputCols=[ 'no_transactions', 'Total25', 'Total100', 'UniqueSongs', 'TotalSecHeard', 'payment_method_id', 'payment_plan_days', 'is_auto_renew',  'is_cancel', 'bd',  'registered_via', 'DaysOnBoard', 'Discount', \"gender_indexed\"],outputCol='features')\n",
    "churn_data=assembler.transform(churn_data)\n",
    "churn_data.select(\"features\").show(2)"
   ]
  },
  {
   "cell_type": "code",
   "execution_count": 13,
   "metadata": {
    "collapsed": false
   },
   "outputs": [],
   "source": [
    "#Spliting the data into 70:30 \n",
    "splits=churn_data.randomSplit([0.7 , 0.3])\n",
    "train=splits[0]\n",
    "test=splits[1]"
   ]
  },
  {
   "cell_type": "code",
   "execution_count": 14,
   "metadata": {
    "collapsed": true
   },
   "outputs": [],
   "source": [
    "#Running the Generalized Resgression to get the p-values\n",
    "rf=GeneralizedLinearRegression(labelCol='is_churn',featuresCol='features',maxIter=10,regParam=0.3)\n",
    "lrModel = rf.fit(train)"
   ]
  },
  {
   "cell_type": "code",
   "execution_count": 22,
   "metadata": {
    "collapsed": false
   },
   "outputs": [
    {
     "data": {
      "text/html": [
       "<div>\n",
       "<table border=\"1\" class=\"dataframe\">\n",
       "  <thead>\n",
       "    <tr style=\"text-align: right;\">\n",
       "      <th></th>\n",
       "      <th>p-value</th>\n",
       "    </tr>\n",
       "  </thead>\n",
       "  <tbody>\n",
       "    <tr>\n",
       "      <th>intercept</th>\n",
       "      <td>0.000000e+00</td>\n",
       "    </tr>\n",
       "    <tr>\n",
       "      <th>no_transactions</th>\n",
       "      <td>1.645200e-01</td>\n",
       "    </tr>\n",
       "    <tr>\n",
       "      <th>Total25</th>\n",
       "      <td>4.988868e-02</td>\n",
       "    </tr>\n",
       "    <tr>\n",
       "      <th>Total100</th>\n",
       "      <td>2.388969e-02</td>\n",
       "    </tr>\n",
       "    <tr>\n",
       "      <th>UniqueSongs</th>\n",
       "      <td>2.865599e-01</td>\n",
       "    </tr>\n",
       "    <tr>\n",
       "      <th>TotalSecHeard</th>\n",
       "      <td>0.000000e+00</td>\n",
       "    </tr>\n",
       "    <tr>\n",
       "      <th>payment_method_id</th>\n",
       "      <td>0.000000e+00</td>\n",
       "    </tr>\n",
       "    <tr>\n",
       "      <th>payment_plan_days</th>\n",
       "      <td>0.000000e+00</td>\n",
       "    </tr>\n",
       "    <tr>\n",
       "      <th>is_auto_renew</th>\n",
       "      <td>0.000000e+00</td>\n",
       "    </tr>\n",
       "    <tr>\n",
       "      <th>is_cancel</th>\n",
       "      <td>4.698518e-09</td>\n",
       "    </tr>\n",
       "    <tr>\n",
       "      <th>bd</th>\n",
       "      <td>3.184523e-09</td>\n",
       "    </tr>\n",
       "    <tr>\n",
       "      <th>registered_via</th>\n",
       "      <td>9.616404e-09</td>\n",
       "    </tr>\n",
       "    <tr>\n",
       "      <th>DaysOnBoard</th>\n",
       "      <td>0.000000e+00</td>\n",
       "    </tr>\n",
       "    <tr>\n",
       "      <th>Discount</th>\n",
       "      <td>0.000000e+00</td>\n",
       "    </tr>\n",
       "    <tr>\n",
       "      <th>gender_indexed</th>\n",
       "      <td>0.000000e+00</td>\n",
       "    </tr>\n",
       "  </tbody>\n",
       "</table>\n",
       "</div>"
      ],
      "text/plain": [
       "                        p-value\n",
       "intercept          0.000000e+00\n",
       "no_transactions    1.645200e-01\n",
       "Total25            4.988868e-02\n",
       "Total100           2.388969e-02\n",
       "UniqueSongs        2.865599e-01\n",
       "TotalSecHeard      0.000000e+00\n",
       "payment_method_id  0.000000e+00\n",
       "payment_plan_days  0.000000e+00\n",
       "is_auto_renew      0.000000e+00\n",
       "is_cancel          4.698518e-09\n",
       "bd                 3.184523e-09\n",
       "registered_via     9.616404e-09\n",
       "DaysOnBoard        0.000000e+00\n",
       "Discount           0.000000e+00\n",
       "gender_indexed     0.000000e+00"
      ]
     },
     "execution_count": 22,
     "metadata": {},
     "output_type": "execute_result"
    }
   ],
   "source": [
    "#Understanding and visualizing the pvalues\n",
    "pd.set_option('display.max_colwidth', 30)\n",
    "\n",
    "feature_names = ['intercept', 'no_transactions', 'Total25', 'Total100', 'UniqueSongs', 'TotalSecHeard', 'payment_method_id', 'payment_plan_days', 'is_auto_renew',  'is_cancel', 'bd',  'registered_via', 'DaysOnBoard', 'Discount', 'gender_indexed']\n",
    "records = [ result for result in lrModel.summary.pValues ]\n",
    "\n",
    "pVal_df = pd.DataFrame(data=records, index= feature_names, columns=[\"p-value\"])\n",
    "\n",
    "pVal_df "
   ]
  },
  {
   "cell_type": "markdown",
   "metadata": {},
   "source": [
    "At this point, we are going to consider all our variables from our training dataset as from the p-values we cannot discard any of the features"
   ]
  },
  {
   "cell_type": "markdown",
   "metadata": {},
   "source": [
    "## Building Models"
   ]
  },
  {
   "cell_type": "markdown",
   "metadata": {},
   "source": [
    "### Model1: Logistic Regression Model"
   ]
  },
  {
   "cell_type": "code",
   "execution_count": 23,
   "metadata": {
    "collapsed": false
   },
   "outputs": [
    {
     "name": "stdout",
     "output_type": "stream",
     "text": [
      "The number of ones are 37733\n",
      "Percentage of ones are 12.1303791527\n",
      "BalancingRatio = 0.878696208473\n"
     ]
    }
   ],
   "source": [
    "dataset_size=float(train.select(\"is_churn\").count())\n",
    "numPositives=train.select(\"is_churn\").where('is_churn == 1').count()\n",
    "per_ones=(float(numPositives)/float(dataset_size))*100\n",
    "numNegatives=float(dataset_size-numPositives)\n",
    "print('The number of ones are {}'.format(numPositives))\n",
    "print('Percentage of ones are {}'.format(per_ones))\n",
    "\n",
    "BalancingRatio= numNegatives/dataset_size\n",
    "print('BalancingRatio = {}'.format(BalancingRatio))\n",
    "\n",
    "#Ref:https://medium.com/@dhiraj.p.rai/logistic-regression-in-spark-ml-8a95b5f5434c\n"
   ]
  },
  {
   "cell_type": "code",
   "execution_count": 24,
   "metadata": {
    "collapsed": false
   },
   "outputs": [
    {
     "name": "stdout",
     "output_type": "stream",
     "text": [
      "+-------------------+\n",
      "|       classWeights|\n",
      "+-------------------+\n",
      "|0.12130379152709103|\n",
      "|0.12130379152709103|\n",
      "|0.12130379152709103|\n",
      "|0.12130379152709103|\n",
      "|0.12130379152709103|\n",
      "+-------------------+\n",
      "only showing top 5 rows\n",
      "\n"
     ]
    }
   ],
   "source": [
    "train=train.withColumn(\"classWeights\", when(train['is_churn'] == 1,BalancingRatio).otherwise(1-BalancingRatio))\n",
    "train.select(\"classWeights\").show(5)"
   ]
  },
  {
   "cell_type": "code",
   "execution_count": 25,
   "metadata": {
    "collapsed": false
   },
   "outputs": [
    {
     "name": "stdout",
     "output_type": "stream",
     "text": [
      "+--------+----------+\n",
      "|is_churn|prediction|\n",
      "+--------+----------+\n",
      "|       1|       1.0|\n",
      "|       0|       0.0|\n",
      "|       0|       0.0|\n",
      "|       1|       1.0|\n",
      "|       0|       1.0|\n",
      "|       0|       0.0|\n",
      "|       0|       0.0|\n",
      "|       0|       0.0|\n",
      "|       0|       0.0|\n",
      "|       0|       0.0|\n",
      "+--------+----------+\n",
      "only showing top 10 rows\n",
      "\n"
     ]
    }
   ],
   "source": [
    "lr = LogisticRegression(labelCol=\"is_churn\", featuresCol=\"features\",weightCol=\"classWeights\",maxIter=10)\n",
    "model=lr.fit(train)\n",
    "predict_train=model.transform(train)\n",
    "predict_test_LR=model.transform(test)\n",
    "predict_test_LR.select(\"is_churn\",\"prediction\").show(10)"
   ]
  },
  {
   "cell_type": "markdown",
   "metadata": {},
   "source": [
    "### Model2: Gradient Boosted tree Classifier"
   ]
  },
  {
   "cell_type": "code",
   "execution_count": 28,
   "metadata": {
    "collapsed": true
   },
   "outputs": [],
   "source": [
    "from pyspark.ml import Pipeline\n",
    "from pyspark.ml.classification import GBTClassifier\n",
    "from pyspark.ml.feature import StringIndexer, VectorIndexer\n",
    "from pyspark.ml.evaluation import MulticlassClassificationEvaluator"
   ]
  },
  {
   "cell_type": "code",
   "execution_count": 29,
   "metadata": {
    "collapsed": false
   },
   "outputs": [
    {
     "data": {
      "text/plain": [
       "GBTClassificationModel (uid=GBTClassifier_1ce50f55f77e) with 5 trees"
      ]
     },
     "execution_count": 29,
     "metadata": {},
     "output_type": "execute_result"
    }
   ],
   "source": [
    "GBT_clsf = GBTClassifier(labelCol='is_churn',featuresCol='features',maxIter = 5)\n",
    "GBTModel = GBT_clsf.fit(train)\n",
    "GBTModel"
   ]
  },
  {
   "cell_type": "code",
   "execution_count": 30,
   "metadata": {
    "collapsed": false
   },
   "outputs": [
    {
     "name": "stdout",
     "output_type": "stream",
     "text": [
      "+--------+----------+\n",
      "|is_churn|prediction|\n",
      "+--------+----------+\n",
      "|       1|       0.0|\n",
      "|       0|       0.0|\n",
      "|       0|       0.0|\n",
      "|       1|       1.0|\n",
      "|       0|       0.0|\n",
      "|       0|       0.0|\n",
      "|       0|       0.0|\n",
      "|       0|       0.0|\n",
      "|       0|       0.0|\n",
      "|       0|       0.0|\n",
      "+--------+----------+\n",
      "only showing top 10 rows\n",
      "\n"
     ]
    }
   ],
   "source": [
    "prediction = GBTModel.transform(test)\n",
    "prediction.select(\"is_churn\", \"prediction\").show(10)"
   ]
  },
  {
   "cell_type": "markdown",
   "metadata": {},
   "source": [
    "### Model3: Random Forest Classifier"
   ]
  },
  {
   "cell_type": "code",
   "execution_count": 33,
   "metadata": {
    "collapsed": false
   },
   "outputs": [
    {
     "data": {
      "text/plain": [
       "RandomForestClassificationModel (uid=RandomForestClassifier_442ef1532413) with 2 trees"
      ]
     },
     "execution_count": 33,
     "metadata": {},
     "output_type": "execute_result"
    }
   ],
   "source": [
    "#rfmodel 1\n",
    "#https://spark.apache.org/docs/latest/mllib-ensembles.html#random-forests\n",
    "\n",
    "from pyspark.ml.regression import RandomForestRegressor\n",
    "from pyspark.ml.feature import VectorIndexer\n",
    "from pyspark.ml.evaluation import RegressionEvaluator\n",
    "randomf=RandomForestClassifier(labelCol='is_churn',featuresCol='features',numTrees=2)\n",
    "lrandomModel = randomf.fit(train)\n",
    "lrandomModel"
   ]
  },
  {
   "cell_type": "code",
   "execution_count": 34,
   "metadata": {
    "collapsed": false
   },
   "outputs": [
    {
     "name": "stdout",
     "output_type": "stream",
     "text": [
      "+--------+----------+\n",
      "|is_churn|prediction|\n",
      "+--------+----------+\n",
      "|       1|       0.0|\n",
      "|       0|       0.0|\n",
      "|       0|       0.0|\n",
      "|       1|       1.0|\n",
      "|       0|       0.0|\n",
      "|       0|       0.0|\n",
      "|       0|       0.0|\n",
      "|       0|       0.0|\n",
      "|       0|       0.0|\n",
      "|       0|       0.0|\n",
      "+--------+----------+\n",
      "only showing top 10 rows\n",
      "\n"
     ]
    }
   ],
   "source": [
    "\n",
    "# Make predictions.\n",
    "predict_test_RF = lrandomModel.transform(test)\n",
    "\n",
    "# Select example rows to display.\n",
    "predict_test_RF.select(\"is_churn\", \"prediction\").show(10)"
   ]
  },
  {
   "cell_type": "markdown",
   "metadata": {},
   "source": [
    "#### Feature Importance"
   ]
  },
  {
   "cell_type": "markdown",
   "metadata": {},
   "source": [
    "The GradientBoostedTrees and Random Forest gives us an idea on the feature importances along with the classification shown above."
   ]
  },
  {
   "cell_type": "code",
   "execution_count": 35,
   "metadata": {
    "collapsed": false
   },
   "outputs": [
    {
     "data": {
      "text/html": [
       "<div>\n",
       "<table border=\"1\" class=\"dataframe\">\n",
       "  <thead>\n",
       "    <tr style=\"text-align: right;\">\n",
       "      <th></th>\n",
       "      <th>idx</th>\n",
       "      <th>name</th>\n",
       "      <th>vals</th>\n",
       "      <th>score</th>\n",
       "    </tr>\n",
       "  </thead>\n",
       "  <tbody>\n",
       "    <tr>\n",
       "      <th>7</th>\n",
       "      <td>6</td>\n",
       "      <td>payment_plan_days</td>\n",
       "      <td>NaN</td>\n",
       "      <td>0.823746</td>\n",
       "    </tr>\n",
       "    <tr>\n",
       "      <th>9</th>\n",
       "      <td>8</td>\n",
       "      <td>is_cancel</td>\n",
       "      <td>NaN</td>\n",
       "      <td>0.127369</td>\n",
       "    </tr>\n",
       "    <tr>\n",
       "      <th>8</th>\n",
       "      <td>7</td>\n",
       "      <td>is_auto_renew</td>\n",
       "      <td>NaN</td>\n",
       "      <td>0.017000</td>\n",
       "    </tr>\n",
       "    <tr>\n",
       "      <th>13</th>\n",
       "      <td>12</td>\n",
       "      <td>Discount</td>\n",
       "      <td>NaN</td>\n",
       "      <td>0.013328</td>\n",
       "    </tr>\n",
       "    <tr>\n",
       "      <th>6</th>\n",
       "      <td>5</td>\n",
       "      <td>payment_method_id</td>\n",
       "      <td>NaN</td>\n",
       "      <td>0.006410</td>\n",
       "    </tr>\n",
       "    <tr>\n",
       "      <th>2</th>\n",
       "      <td>1</td>\n",
       "      <td>Total25</td>\n",
       "      <td>NaN</td>\n",
       "      <td>0.005099</td>\n",
       "    </tr>\n",
       "    <tr>\n",
       "      <th>4</th>\n",
       "      <td>3</td>\n",
       "      <td>UniqueSongs</td>\n",
       "      <td>NaN</td>\n",
       "      <td>0.002511</td>\n",
       "    </tr>\n",
       "    <tr>\n",
       "      <th>1</th>\n",
       "      <td>0</td>\n",
       "      <td>no_transactions</td>\n",
       "      <td>NaN</td>\n",
       "      <td>0.001767</td>\n",
       "    </tr>\n",
       "    <tr>\n",
       "      <th>12</th>\n",
       "      <td>11</td>\n",
       "      <td>DaysOnBoard</td>\n",
       "      <td>NaN</td>\n",
       "      <td>0.001734</td>\n",
       "    </tr>\n",
       "    <tr>\n",
       "      <th>3</th>\n",
       "      <td>2</td>\n",
       "      <td>Total100</td>\n",
       "      <td>NaN</td>\n",
       "      <td>0.000598</td>\n",
       "    </tr>\n",
       "  </tbody>\n",
       "</table>\n",
       "</div>"
      ],
      "text/plain": [
       "    idx               name vals     score\n",
       "7     6  payment_plan_days  NaN  0.823746\n",
       "9     8          is_cancel  NaN  0.127369\n",
       "8     7      is_auto_renew  NaN  0.017000\n",
       "13   12           Discount  NaN  0.013328\n",
       "6     5  payment_method_id  NaN  0.006410\n",
       "2     1            Total25  NaN  0.005099\n",
       "4     3        UniqueSongs  NaN  0.002511\n",
       "1     0    no_transactions  NaN  0.001767\n",
       "12   11        DaysOnBoard  NaN  0.001734\n",
       "3     2           Total100  NaN  0.000598"
      ]
     },
     "execution_count": 35,
     "metadata": {},
     "output_type": "execute_result"
    }
   ],
   "source": [
    "def ExtractFeatureImp(featureImp, dataset, featuresCol):\n",
    "    list_extract = []\n",
    "    for i in dataset.schema[featuresCol].metadata[\"ml_attr\"][\"attrs\"]:\n",
    "        list_extract = list_extract + dataset.schema[featuresCol].metadata[\"ml_attr\"][\"attrs\"][i]\n",
    "    varlist = pd.DataFrame(list_extract)\n",
    "    varlist['score'] = varlist['idx'].apply(lambda x: featureImp[x])\n",
    "    return(varlist.sort_values('score', ascending = False))\n",
    "\n",
    "ExtractFeatureImp(lrandomModel.featureImportances, predict_test_RF, \"features\").head(10)"
   ]
  },
  {
   "cell_type": "code",
   "execution_count": 36,
   "metadata": {
    "collapsed": false
   },
   "outputs": [
    {
     "data": {
      "text/html": [
       "<div>\n",
       "<table border=\"1\" class=\"dataframe\">\n",
       "  <thead>\n",
       "    <tr style=\"text-align: right;\">\n",
       "      <th></th>\n",
       "      <th>idx</th>\n",
       "      <th>name</th>\n",
       "      <th>vals</th>\n",
       "      <th>score</th>\n",
       "    </tr>\n",
       "  </thead>\n",
       "  <tbody>\n",
       "    <tr>\n",
       "      <th>7</th>\n",
       "      <td>6</td>\n",
       "      <td>payment_plan_days</td>\n",
       "      <td>NaN</td>\n",
       "      <td>0.440580</td>\n",
       "    </tr>\n",
       "    <tr>\n",
       "      <th>12</th>\n",
       "      <td>11</td>\n",
       "      <td>DaysOnBoard</td>\n",
       "      <td>NaN</td>\n",
       "      <td>0.224452</td>\n",
       "    </tr>\n",
       "    <tr>\n",
       "      <th>9</th>\n",
       "      <td>8</td>\n",
       "      <td>is_cancel</td>\n",
       "      <td>NaN</td>\n",
       "      <td>0.079894</td>\n",
       "    </tr>\n",
       "    <tr>\n",
       "      <th>6</th>\n",
       "      <td>5</td>\n",
       "      <td>payment_method_id</td>\n",
       "      <td>NaN</td>\n",
       "      <td>0.075168</td>\n",
       "    </tr>\n",
       "    <tr>\n",
       "      <th>8</th>\n",
       "      <td>7</td>\n",
       "      <td>is_auto_renew</td>\n",
       "      <td>NaN</td>\n",
       "      <td>0.063816</td>\n",
       "    </tr>\n",
       "    <tr>\n",
       "      <th>0</th>\n",
       "      <td>13</td>\n",
       "      <td>gender_indexed</td>\n",
       "      <td>[male, female, NA]</td>\n",
       "      <td>0.057268</td>\n",
       "    </tr>\n",
       "    <tr>\n",
       "      <th>13</th>\n",
       "      <td>12</td>\n",
       "      <td>Discount</td>\n",
       "      <td>NaN</td>\n",
       "      <td>0.023562</td>\n",
       "    </tr>\n",
       "    <tr>\n",
       "      <th>10</th>\n",
       "      <td>9</td>\n",
       "      <td>bd</td>\n",
       "      <td>NaN</td>\n",
       "      <td>0.017318</td>\n",
       "    </tr>\n",
       "    <tr>\n",
       "      <th>1</th>\n",
       "      <td>0</td>\n",
       "      <td>no_transactions</td>\n",
       "      <td>NaN</td>\n",
       "      <td>0.010839</td>\n",
       "    </tr>\n",
       "    <tr>\n",
       "      <th>2</th>\n",
       "      <td>1</td>\n",
       "      <td>Total25</td>\n",
       "      <td>NaN</td>\n",
       "      <td>0.002394</td>\n",
       "    </tr>\n",
       "  </tbody>\n",
       "</table>\n",
       "</div>"
      ],
      "text/plain": [
       "    idx               name                vals     score\n",
       "7     6  payment_plan_days                 NaN  0.440580\n",
       "12   11        DaysOnBoard                 NaN  0.224452\n",
       "9     8          is_cancel                 NaN  0.079894\n",
       "6     5  payment_method_id                 NaN  0.075168\n",
       "8     7      is_auto_renew                 NaN  0.063816\n",
       "0    13     gender_indexed  [male, female, NA]  0.057268\n",
       "13   12           Discount                 NaN  0.023562\n",
       "10    9                 bd                 NaN  0.017318\n",
       "1     0    no_transactions                 NaN  0.010839\n",
       "2     1            Total25                 NaN  0.002394"
      ]
     },
     "execution_count": 36,
     "metadata": {},
     "output_type": "execute_result"
    }
   ],
   "source": [
    "ExtractFeatureImp(GBTModel.featureImportances, prediction, \"features\").head(10)"
   ]
  },
  {
   "cell_type": "markdown",
   "metadata": {},
   "source": [
    "As highlighted by both the models , it seems that the payment_play_days is the most important feature. Considering the feature importance of both bthe models, we have finalized the below features:\n",
    "1. Payment_Plan_Days\n",
    "2. Days On Board\n",
    "3. IsCancel\n",
    "4. Payment method id\n",
    "5. Total 25\n",
    "6. Total 100\n",
    "7. Is auto renew\n",
    "8. Gender\n",
    "9. Age \n",
    "10. Discount"
   ]
  },
  {
   "cell_type": "markdown",
   "metadata": {
    "collapsed": false
   },
   "source": [
    "## Model Evaluation"
   ]
  },
  {
   "cell_type": "markdown",
   "metadata": {},
   "source": [
    "Model Accuracy Comparison"
   ]
  },
  {
   "cell_type": "code",
   "execution_count": 86,
   "metadata": {
    "collapsed": false
   },
   "outputs": [
    {
     "name": "stdout",
     "output_type": "stream",
     "text": [
      "('Logistic Regression accuracy:', 0.9286801136321048)\n",
      "('Random Forest accuracy:', 0.8497522730168724)\n",
      "('GBT classifier accuracy:', 0.9269936213112665)\n"
     ]
    }
   ],
   "source": [
    "evaluator = MulticlassClassificationEvaluator(labelCol=\"is_churn\", predictionCol=\"prediction\", metricName=\"accuracy\")\n",
    "accuracyLR = evaluator.evaluate(prediction)\n",
    "accuracyRF = evaluator.evaluate(predict_test_LR)\n",
    "accuracyGBT = evaluator.evaluate(predict_test_RF)\n",
    "print(\"Logistic Regression accuracy:\", accuracyLR)\n",
    "print(\"Random Forest accuracy:\", accuracyRF)\n",
    "print(\"GBT classifier accuracy:\", accuracyGBT)"
   ]
  },
  {
   "cell_type": "markdown",
   "metadata": {},
   "source": [
    "#### 1. Logistic Regression Correlation Matrix:"
   ]
  },
  {
   "cell_type": "code",
   "execution_count": 87,
   "metadata": {
    "collapsed": true
   },
   "outputs": [],
   "source": [
    "def printCorrelationMatric(predictions):\n",
    "    tp = predictions[(predictions.is_churn == 1) & (predictions.prediction == 1)].count()\n",
    "    tn = predictions[(predictions.is_churn == 0) & (predictions.prediction == 0)].count()\n",
    "    fp = predictions[(predictions.is_churn == 0) & (predictions.prediction == 1)].count()\n",
    "    fn = predictions[(predictions.is_churn == 1) & (predictions.prediction == 0)].count()\n",
    "    print \"True Positives:\", tp\n",
    "    print \"True Negatives:\", tn\n",
    "    print \"False Positives:\", fp\n",
    "    print \"False Negatives:\", fn\n",
    "    print \"Total\", predictions.count()"
   ]
  },
  {
   "cell_type": "code",
   "execution_count": 89,
   "metadata": {
    "collapsed": false
   },
   "outputs": [
    {
     "name": "stdout",
     "output_type": "stream",
     "text": [
      "Logistic Regression Model:\n",
      "True Positives: 10068\n",
      "True Negatives: 103300\n",
      "False Positives: 14217\n",
      "False Negatives: 5828\n",
      "Total 133413\n",
      "\n",
      "Random Forest Classifier:\n",
      "True Positives: 6911\n",
      "True Negatives: 116762\n",
      "False Positives: 755\n",
      "False Negatives: 8985\n",
      "Total 133413\n",
      "\n",
      " Gradient Boosted Trees Classifier:\n",
      "True Positives: 7099\n",
      "True Negatives: 116799\n",
      "False Positives: 718\n",
      "False Negatives: 8797\n",
      "Total 133413\n"
     ]
    }
   ],
   "source": [
    "#Evaluating Logistic Regression model:\n",
    "print(\"Logistic Regression Model:\")\n",
    "printCorrelationMatric(predict_test_LR)\n",
    "print(\"\\nRandom Forest Classifier:\")\n",
    "printCorrelationMatric(predict_test_RF)\n",
    "print(\"\\n Gradient Boosted Trees Classifier:\")\n",
    "printCorrelationMatric(prediction)"
   ]
  },
  {
   "cell_type": "markdown",
   "metadata": {},
   "source": [
    "#### ROC Curves:"
   ]
  },
  {
   "cell_type": "code",
   "execution_count": 100,
   "metadata": {
    "collapsed": false
   },
   "outputs": [
    {
     "data": {
      "image/png": "[encoded data removed]",
      "text/plain": [
       "<matplotlib.figure.Figure at 0x7f1e9b6eaf10>"
      ]
     },
     "metadata": {},
     "output_type": "display_data"
    }
   ],
   "source": [
    "results = predict_test_LR.select(['probability', 'is_churn'])\n",
    " \n",
    "## prepare score-label set\n",
    "results_collect = results.collect()\n",
    "results_list = [(float(i[0][0]), 1.0-float(i[1])) for i in results_collect]\n",
    "\n",
    "from sklearn.metrics import roc_curve, auc\n",
    " \n",
    "fpr = dict()\n",
    "tpr = dict()\n",
    "roc_auc = dict()\n",
    " \n",
    "y_test = [i[1] for i in results_list]\n",
    "y_score = [i[0] for i in results_list]\n",
    " \n",
    "fpr, tpr, _ = roc_curve(y_test, y_score)\n",
    "roc_auc = auc(fpr, tpr)\n",
    " \n",
    "%matplotlib inline\n",
    "mplt.figure()\n",
    "mplt.plot(fpr, tpr, label='ROC curve (area = %0.2f)' % roc_auc)\n",
    "mplt.plot([0, 1], [0, 1], 'r--')\n",
    "mplt.xlim([0.0, 1.0])\n",
    "mplt.ylim([0.0, 1.05])\n",
    "mplt.xlabel('False Positive Rate')\n",
    "mplt.ylabel('True Positive Rate')\n",
    "mplt.title('Logistic Regression: ROC Curve')\n",
    "mplt.legend(loc=\"lower right\")\n",
    "mplt.show()"
   ]
  },
  {
   "cell_type": "code",
   "execution_count": 92,
   "metadata": {
    "collapsed": false
   },
   "outputs": [
    {
     "data": {
      "image/png": "[encoded data removed]",
      "text/plain": [
       "<matplotlib.figure.Figure at 0x7f1e9b8219d0>"
      ]
     },
     "metadata": {},
     "output_type": "display_data"
    }
   ],
   "source": [
    "\n",
    "results = predict_test_RF.select(['probability', 'is_churn'])\n",
    " \n",
    "## prepare score-label set\n",
    "results_collect = results.collect()\n",
    "results_list = [(float(i[0][0]), 1.0-float(i[1])) for i in results_collect]\n",
    "\n",
    "from sklearn.metrics import roc_curve, auc\n",
    " \n",
    "fpr = dict()\n",
    "tpr = dict()\n",
    "roc_auc = dict()\n",
    " \n",
    "y_test = [i[1] for i in results_list]\n",
    "y_score = [i[0] for i in results_list]\n",
    " \n",
    "fpr, tpr, _ = roc_curve(y_test, y_score)\n",
    "roc_auc = auc(fpr, tpr)\n",
    " \n",
    "%matplotlib inline\n",
    "mplt.figure()\n",
    "mplt.plot(fpr, tpr, label='ROC curve (area = %0.2f)' % roc_auc)\n",
    "mplt.plot([0, 1], [0, 1], 'r--')\n",
    "mplt.xlim([0.0, 1.0])\n",
    "mplt.ylim([0.0, 1.05])\n",
    "mplt.xlabel('False Positive Rate')\n",
    "mplt.ylabel('True Positive Rate')\n",
    "mplt.title('Random Forest: ROC Curve')\n",
    "mplt.legend(loc=\"lower right\")\n",
    "mplt.show()\n",
    "\n",
    "#Ref:https://weiminwang.blog/2016/06/09/pyspark-tutorial-building-a-random-forest-binary-classifier-on-unbalanced-dataset/\n"
   ]
  },
  {
   "cell_type": "code",
   "execution_count": 99,
   "metadata": {
    "collapsed": false
   },
   "outputs": [
    {
     "data": {
      "image/png": "[encoded data removed]",
      "text/plain": [
       "<matplotlib.figure.Figure at 0x7f1e9b6e5e90>"
      ]
     },
     "metadata": {},
     "output_type": "display_data"
    }
   ],
   "source": [
    "results = prediction.select(['probability', 'is_churn'])\n",
    " \n",
    "## prepare score-label set\n",
    "results_collect = results.collect()\n",
    "results_list = [(float(i[0][0]), 1.0-float(i[1])) for i in results_collect]\n",
    "\n",
    "from sklearn.metrics import roc_curve, auc\n",
    " \n",
    "fpr = dict()\n",
    "tpr = dict()\n",
    "roc_auc = dict()\n",
    " \n",
    "y_test = [i[1] for i in results_list]\n",
    "y_score = [i[0] for i in results_list]\n",
    " \n",
    "fpr, tpr, _ = roc_curve(y_test, y_score)\n",
    "roc_auc = auc(fpr, tpr)\n",
    " \n",
    "%matplotlib inline\n",
    "mplt.figure()\n",
    "mplt.plot(fpr, tpr, label='ROC curve (area = %0.2f)' % roc_auc)\n",
    "mplt.plot([0, 1], [0, 1], 'r--')\n",
    "mplt.xlim([0.0, 1.0])\n",
    "mplt.ylim([0.0, 1.05])\n",
    "mplt.xlabel('False Positive Rate')\n",
    "mplt.ylabel('True Positive Rate')\n",
    "mplt.title('Gradient Bossting Classifier: ROC Curve')\n",
    "mplt.legend(loc=\"lower right\")\n",
    "mplt.show()"
   ]
  },
  {
   "cell_type": "markdown",
   "metadata": {},
   "source": [
    "Overall, Random forest classifier is the model giving least accuracy whereas Logistic Regression gives the most."
   ]
  },
  {
   "cell_type": "markdown",
   "metadata": {},
   "source": [
    "### Unsupervised Learning: KMeans Clustering:"
   ]
  },
  {
   "cell_type": "code",
   "execution_count": 40,
   "metadata": {
    "collapsed": false
   },
   "outputs": [
    {
     "name": "stdout",
     "output_type": "stream",
     "text": [
      "+--------------------+---------------+-------+--------+------------------+------------------+-----------------+-----------------+-------------+----------------+---------+--------+----+---+--------------+-----------+--------+--------------+--------------------+\n",
      "|                msno|no_transactions|Total25|Total100|       UniqueSongs|     TotalSecHeard|payment_method_id|payment_plan_days|is_auto_renew|transaction_date|is_cancel|is_churn|city| bd|registered_via|DaysOnBoard|Discount|gender_indexed|            features|\n",
      "+--------------------+---------------+-------+--------+------------------+------------------+-----------------+-----------------+-------------+----------------+---------+--------+----+---+--------------+-----------+--------+--------------+--------------------+\n",
      "|+/namlXq+u3izRjHC...|             23|    970|      20|30.217391304347824| 72.30434782608695|               34|               30|            1|      2017-03-31|        0|       0|  15| 31|             9|       3984|       0|           0.0|[970.0,20.0,1.0,0...|\n",
      "|+0/X9tkmyHyet9X80...|             30|    345|      31| 34.96666666666667|24.566666666666666|               34|               30|            1|      2017-03-31|        0|       0|   9| 31|             9|       4779|       0|           0.0|[345.0,31.0,1.0,0...|\n",
      "|+09YGn842g6h2EZUX...|             24|    100|      14|48.458333333333336|42.541666666666664|               34|               30|            1|      2017-03-31|        0|       0|  15| 29|             9|       3326|       0|           0.0|[100.0,14.0,1.0,0...|\n",
      "|+0jTOa6KGPk1vtNTw...|             17|     53|      20|15.882352941176471|18.647058823529413|               23|               30|            1|      2017-03-31|        0|       0|   5| 24|             9|       1140|       0|           1.0|[53.0,20.0,1.0,0....|\n",
      "|+0jTOa6KGPk1vtNTw...|             17|     53|      20|15.882352941176471|18.647058823529413|               23|               30|            1|      2017-02-28|        0|       0|   5| 24|             9|       1110|       0|           1.0|[53.0,20.0,1.0,0....|\n",
      "|+0l+FDuhyjaZnu0AP...|             21|    228|      19| 31.38095238095238|36.142857142857146|               37|               30|            1|      2017-03-24|        0|       0|  13| 32|             3|        769|       0|           0.0|[228.0,19.0,1.0,0...|\n",
      "|+2Df04hr61UUJijMM...|             28|     57|      19|209.10714285714286|              24.5|               36|               30|            1|      2017-03-30|        1|       1|   6| 31|             9|       3274|       0|           1.0|[57.0,19.0,1.0,1....|\n",
      "|+2Df04hr61UUJijMM...|             28|     57|      19|209.10714285714286|              24.5|               36|               30|            1|      2017-03-01|        0|       1|   6| 31|             9|       3274|       0|           1.0|[57.0,19.0,1.0,1....|\n",
      "|+2oK/qWmYvAnfNZsV...|             29|    663|      24|34.310344827586206| 57.96551724137931|               36|               30|            1|      2017-03-20|        0|       0|   9| 23|             9|       2794|       0|           1.0|[663.0,24.0,1.0,0...|\n",
      "|+5iq4ECBqIcAbIVw0...|              8|     17|       5|             18.25|            17.125|               40|               30|            1|      2017-03-01|        0|       0|   5| 62|             3|       1048|       0|           0.0|[17.0,5.0,1.0,0.0...|\n",
      "|+D+itoGz7oi6jL1FZ...|              7|     21|       3|16.428571428571427|19.571428571428573|               15|               90|            0|      2017-03-16|        0|       1|   1| 21|             4|         99|       0|           0.0|[21.0,3.0,0.0,1.0...|\n",
      "|+D+itoGz7oi6jL1FZ...|              7|     21|       3|16.428571428571427|19.571428571428573|               17|               60|            0|      2017-03-13|        0|       1|   1| 21|             4|          6|       0|           0.0|[21.0,3.0,0.0,1.0...|\n",
      "|+Ee3Z6oRlCNX6Kf4v...|             31|    315|      14|26.741935483870968|26.161290322580644|               34|               30|            1|      2017-03-31|        0|       0|   3| 28|             9|       3382|       0|           0.0|[315.0,14.0,1.0,0...|\n",
      "|+GVaRBskgRjfyLprh...|             28|    222|      33|11.535714285714286|20.107142857142858|               37|               30|            1|      2017-03-24|        0|       0|   6| 51|             9|       1740|       0|           1.0|[222.0,33.0,1.0,0...|\n",
      "|+NhnHCHWzfgJUDmc1...|             28|    126|      50|21.392857142857142|17.178571428571427|               38|               30|            0|      2017-03-25|        0|       0|  13| 18|             4|         69|       0|           1.0|[126.0,50.0,0.0,0...|\n",
      "|+R423gwTlAs/eYBAT...|             18|     18|       4| 12.61111111111111|13.333333333333334|               29|               30|            0|      2017-03-26|        0|       0|   8| 25|             3|       1670|       0|           1.0|[18.0,4.0,0.0,0.0...|\n",
      "|+S1920ac4kXOHxVCZ...|              2|      1|       1|               1.0|               2.0|               39|               30|            1|      2017-02-28|        0|       0|   5| 37|             9|       2061|       0|           0.0|[1.0,1.0,1.0,0.0,...|\n",
      "|+S1920ac4kXOHxVCZ...|              2|      1|       1|               1.0|               2.0|               39|               30|            1|      2017-03-31|        0|       0|   5| 37|             9|       2091|       0|           0.0|[1.0,1.0,1.0,0.0,...|\n",
      "|+SowIRBgloTOSvXzC...|             28|    117|      19|13.071428571428571|16.392857142857142|               41|               30|            1|      2017-03-31|        0|       0|  15| 28|             7|       1642|       0|           1.0|[117.0,19.0,1.0,0...|\n",
      "|+Ub6MOxsZzLGHQY7P...|              6|     13|       2|10.166666666666666|              13.0|               32|              195|            0|      2017-03-18|        0|       1|  22| 32|             9|       3554|       0|           1.0|[13.0,2.0,0.0,1.0...|\n",
      "+--------------------+---------------+-------+--------+------------------+------------------+-----------------+-----------------+-------------+----------------+---------+--------+----+---+--------------+-----------+--------+--------------+--------------------+\n",
      "only showing top 20 rows\n",
      "\n"
     ]
    }
   ],
   "source": [
    "kmeandf = churn_data.drop(\"features\")\n",
    "vecAssembler = VectorAssembler(inputCols=[\"Total25\", \"Total100\",\"is_auto_renew\",\"is_churn\",\"is_cancel\",\"bd\",\"DaysOnBoard\", \"Discount\",\"gender_indexed\",\"payment_method_id\", \"payment_plan_days\"], outputCol=\"features\")\n",
    "new_df = vecAssembler.transform(kmeandf)\n",
    "new_df.show()\n"
   ]
  },
  {
   "cell_type": "code",
   "execution_count": 48,
   "metadata": {
    "collapsed": false
   },
   "outputs": [],
   "source": [
    "from pyspark.ml.clustering import KMeans\n",
    "\n",
    "cost = np.zeros(20)\n",
    "for i in range(2,20):\n",
    "    kmeans = KMeans(k=i, seed=1)  # 4 clusters here\n",
    "    modelKMean = kmeans.fit(new_df.select(\"features\"))\n",
    "    cost[i] = modelKMean.computeCost(new_df) \n",
    "    \n",
    "#ref: https://rsandstroem.github.io/sparkkmeans.html"
   ]
  },
  {
   "cell_type": "code",
   "execution_count": 49,
   "metadata": {
    "collapsed": false
   },
   "outputs": [
    {
     "data": {
      "image/png": "[encoded data removed]",
      "text/plain": [
       "<matplotlib.figure.Figure at 0x7f1e98ce0610>"
      ]
     },
     "metadata": {},
     "output_type": "display_data"
    }
   ],
   "source": [
    "fig, ax = mplt.subplots(1,1, figsize =(8,6))\n",
    "ax.plot(range(2,20),cost[2:20])\n",
    "ax.set_xlabel('k')\n",
    "ax.set_ylabel('cost')\n",
    "mplt.show()"
   ]
  },
  {
   "cell_type": "markdown",
   "metadata": {
    "collapsed": true
   },
   "source": [
    "From the above graph , it can be seen that after k = 12, there is very little gain, hence sticking to k=12"
   ]
  },
  {
   "cell_type": "code",
   "execution_count": 51,
   "metadata": {
    "collapsed": false,
    "scrolled": true
   },
   "outputs": [
    {
     "name": "stdout",
     "output_type": "stream",
     "text": [
      "Cluster Centers: \n",
      "[  1.09801287e+02   2.08114797e+01   9.22934563e-01   8.22859984e-02\n",
      "   2.03850510e-02   3.24597409e+01   3.60162470e+03  -5.30839986e-01\n",
      "   4.81313703e-01   3.64825843e+01   3.50025412e+01]\n",
      "[  1.13767598e+02   2.31480451e+01   7.73000120e-01   1.37920685e-01\n",
      "   3.09736284e-02   2.72933291e+01   9.53703750e+02  -1.12677578e+00\n",
      "   5.52823242e-01   3.72234983e+01   4.22809836e+01]\n",
      "[  1.10628029e+03   9.10953284e+01   6.50225279e-01   1.40621295e-01\n",
      "   2.34764050e-02   2.46400285e+01   9.98744368e+02  -1.68603272e+00\n",
      "   5.81456011e-01   3.66011382e+01   4.26940953e+01]\n",
      "[  1.25776375e+02   2.12191317e+01   7.40502570e-01   1.46690426e-01\n",
      "   3.90744041e-02   2.71817618e+01   2.13973141e+02  -3.75938121e+00\n",
      "   5.31546189e-01   3.62123654e+01   3.65901449e+01]\n",
      "[  1.11034466e+02   2.16467104e+01   8.63239226e-01   1.15104782e-01\n",
      "   2.88694733e-02   2.84806915e+01   1.40339932e+03  -4.77053666e-01\n",
      "   5.38352714e-01   3.80313880e+01   3.79077949e+01]\n",
      "[  1.15413410e+02   2.18653068e+01   8.82699425e-01   1.13634389e-01\n",
      "   2.70533248e-02   2.96798603e+01   1.81217770e+03  -6.48619533e-01\n",
      "   4.98514413e-01   3.78730561e+01   3.82645909e+01]\n",
      "[  1.18774776e+02   2.17004667e+01   7.36522754e-01   1.39887203e-01\n",
      "   3.07856865e-02   2.70139829e+01   5.56276079e+02  -1.74696616e+00\n",
      "   5.39692727e-01   3.72217231e+01   3.72747958e+01]\n",
      "[  1.06372925e+02   2.05832035e+01   9.03889152e-01   1.42557084e-01\n",
      "   2.44257741e-02   3.22598076e+01   2.62528752e+03  -3.66589877e-01\n",
      "   4.82620774e-01   3.74888881e+01   3.76794159e+01]\n",
      "[  1.09647957e+02   2.07407337e+01   9.05590156e-01   8.98906274e-02\n",
      "   2.17605955e-02   3.17443415e+01   3.13237654e+03  -8.92070485e-01\n",
      "   4.84429591e-01   3.67007064e+01   3.67899894e+01]\n",
      "[  1.05503257e+02   1.92582711e+01   9.37783633e-01   8.28209633e-02\n",
      "   1.77133655e-02   3.36406822e+01   4.07457085e+03  -4.93997951e-01\n",
      "   5.17018006e-01   3.57802298e+01   3.59988655e+01]\n",
      "[  1.07298045e+02   2.00783257e+01   9.16058884e-01   1.27723836e-01\n",
      "   2.54821245e-02   3.18017137e+01   2.22373017e+03  -2.40458186e-01\n",
      "   5.17070115e-01   3.80602712e+01   3.71092443e+01]\n",
      "[  9.65678438e+01   1.84576020e+01   9.24578840e-01   1.26876718e-01\n",
      "   1.81856629e-02   3.41728343e+01   4.55343194e+03  -5.57482202e-01\n",
      "   4.83118348e-01   3.49456545e+01   4.00126877e+01]\n"
     ]
    }
   ],
   "source": [
    "kmeans = KMeans(k=12, seed=1)  \n",
    "modelKMean = kmeans.fit(new_df.select(\"features\"))\n",
    "\n",
    "centers = modelKMean.clusterCenters()\n",
    "\n",
    "print(\"Cluster Centers: \")\n",
    "for center in centers:\n",
    "    print(center)"
   ]
  },
  {
   "cell_type": "code",
   "execution_count": 53,
   "metadata": {
    "collapsed": false
   },
   "outputs": [
    {
     "data": {
      "text/plain": [
       "DataFrame[summary: string, msno: string, no_transactions: string, Total25: string, Total100: string, UniqueSongs: string, TotalSecHeard: string, payment_method_id: string, payment_plan_days: string, is_auto_renew: string, transaction_date: string, is_cancel: string, is_churn: string, city: string, bd: string, registered_via: string, DaysOnBoard: string, Discount: string, gender_indexed: string, prediction: string]"
      ]
     },
     "execution_count": 53,
     "metadata": {},
     "output_type": "execute_result"
    }
   ],
   "source": [
    "transformed = modelKMean.transform(new_df)\n",
    "transformed.describe()"
   ]
  },
  {
   "cell_type": "code",
   "execution_count": 55,
   "metadata": {
    "collapsed": false
   },
   "outputs": [
    {
     "name": "stdout",
     "output_type": "stream",
     "text": [
      "+-------+--------+-----------------+-----------------+-------------+----------------+---------+--------+----+---+--------------+-----------+--------+--------------+----------+\n",
      "|Total25|Total100|payment_method_id|payment_plan_days|is_auto_renew|transaction_date|is_cancel|is_churn|city| bd|registered_via|DaysOnBoard|Discount|gender_indexed|prediction|\n",
      "+-------+--------+-----------------+-----------------+-------------+----------------+---------+--------+----+---+--------------+-----------+--------+--------------+----------+\n",
      "|    970|      20|               34|               30|            1|      2017-03-31|        0|       0|  15| 31|             9|       3984|       0|           0.0|         9|\n",
      "|    345|      31|               34|               30|            1|      2017-03-31|        0|       0|   9| 31|             9|       4779|       0|           0.0|        11|\n",
      "|    100|      14|               34|               30|            1|      2017-03-31|        0|       0|  15| 29|             9|       3326|       0|           0.0|         8|\n",
      "|     53|      20|               23|               30|            1|      2017-03-31|        0|       0|   5| 24|             9|       1140|       0|           1.0|         1|\n",
      "|     53|      20|               23|               30|            1|      2017-02-28|        0|       0|   5| 24|             9|       1110|       0|           1.0|         1|\n",
      "|    228|      19|               37|               30|            1|      2017-03-24|        0|       0|  13| 32|             3|        769|       0|           0.0|         1|\n",
      "|     57|      19|               36|               30|            1|      2017-03-30|        1|       1|   6| 31|             9|       3274|       0|           1.0|         8|\n",
      "|     57|      19|               36|               30|            1|      2017-03-01|        0|       1|   6| 31|             9|       3274|       0|           1.0|         8|\n",
      "|    663|      24|               36|               30|            1|      2017-03-20|        0|       0|   9| 23|             9|       2794|       0|           1.0|         7|\n",
      "|     17|       5|               40|               30|            1|      2017-03-01|        0|       0|   5| 62|             3|       1048|       0|           0.0|         1|\n",
      "|     21|       3|               15|               90|            0|      2017-03-16|        0|       1|   1| 21|             4|         99|       0|           0.0|         3|\n",
      "|     21|       3|               17|               60|            0|      2017-03-13|        0|       1|   1| 21|             4|          6|       0|           0.0|         3|\n",
      "|    315|      14|               34|               30|            1|      2017-03-31|        0|       0|   3| 28|             9|       3382|       0|           0.0|         0|\n",
      "|    222|      33|               37|               30|            1|      2017-03-24|        0|       0|   6| 51|             9|       1740|       0|           1.0|         5|\n",
      "|    126|      50|               38|               30|            0|      2017-03-25|        0|       0|  13| 18|             4|         69|       0|           1.0|         3|\n",
      "|     18|       4|               29|               30|            0|      2017-03-26|        0|       0|   8| 25|             3|       1670|       0|           1.0|         5|\n",
      "|      1|       1|               39|               30|            1|      2017-02-28|        0|       0|   5| 37|             9|       2061|       0|           0.0|        10|\n",
      "|      1|       1|               39|               30|            1|      2017-03-31|        0|       0|   5| 37|             9|       2091|       0|           0.0|        10|\n",
      "|    117|      19|               41|               30|            1|      2017-03-31|        0|       0|  15| 28|             7|       1642|       0|           1.0|         5|\n",
      "|     13|       2|               32|              195|            0|      2017-03-18|        0|       1|  22| 32|             9|       3554|       0|           1.0|         0|\n",
      "+-------+--------+-----------------+-----------------+-------------+----------------+---------+--------+----+---+--------------+-----------+--------+--------------+----------+\n",
      "only showing top 20 rows\n",
      "\n"
     ]
    }
   ],
   "source": [
    "cluster_dataset = transformed.drop('no_transactions','UniqueSongs','TotalSecHeard','msno', 'features','summary')\n",
    "cluster_dataset.show()"
   ]
  },
  {
   "cell_type": "code",
   "execution_count": 56,
   "metadata": {
    "collapsed": false
   },
   "outputs": [
    {
     "name": "stdout",
     "output_type": "stream",
     "text": [
      "+----------+-----+\n",
      "|prediction|count|\n",
      "+----------+-----+\n",
      "|         1|49987|\n",
      "|         6|51424|\n",
      "|         3|38723|\n",
      "|         5|57577|\n",
      "|         9|27209|\n",
      "|         4|64331|\n",
      "|         8|26315|\n",
      "|         7|29570|\n",
      "|        10|44764|\n",
      "|        11|14163|\n",
      "|         2| 4200|\n",
      "|         0|36212|\n",
      "+----------+-----+\n",
      "\n"
     ]
    }
   ],
   "source": [
    "#Number of points in each cluster\n",
    "cluster_dataset.groupBy('prediction').count().show()\n"
   ]
  },
  {
   "cell_type": "code",
   "execution_count": 78,
   "metadata": {
    "collapsed": false
   },
   "outputs": [
    {
     "name": "stdout",
     "output_type": "stream",
     "text": [
      "+----------+-----+\n",
      "|prediction|count|\n",
      "+----------+-----+\n",
      "|         1| 6891|\n",
      "|         6| 7193|\n",
      "|         3| 5681|\n",
      "|         5| 6543|\n",
      "|         9| 2248|\n",
      "|         4| 7406|\n",
      "|         8| 2363|\n",
      "|         7| 4206|\n",
      "|        10| 5722|\n",
      "|        11| 1798|\n",
      "|         2|  592|\n",
      "|         0| 2986|\n",
      "+----------+-----+\n",
      "\n"
     ]
    }
   ],
   "source": [
    "cluster_dataset.filter(\"is_churn =='1'\").groupby(\"prediction\").count().show()"
   ]
  },
  {
   "cell_type": "code",
   "execution_count": 85,
   "metadata": {
    "collapsed": false
   },
   "outputs": [
    {
     "name": "stdout",
     "output_type": "stream",
     "text": [
      "+----------+-----+----------+-----+------------------+\n",
      "|prediction|count|prediction|count|          ChurnPer|\n",
      "+----------+-----+----------+-----+------------------+\n",
      "|         1|49987|         1| 6891|13.785584251905494|\n",
      "|         6|51424|         6| 7193|13.987632233976354|\n",
      "|         3|38723|         3| 5681| 14.67086744312166|\n",
      "|         5|57577|         5| 6543|11.363912673463362|\n",
      "|         9|27209|         9| 2248| 8.261972141570805|\n",
      "|         4|64331|         4| 7406|11.512334644261708|\n",
      "|         8|26315|         8| 2363| 8.979669390081703|\n",
      "|         7|29570|         7| 4206|14.223875549543456|\n",
      "|        10|44764|        10| 5722| 12.78259315521401|\n",
      "|        11|14163|        11| 1798|12.695050483654594|\n",
      "|         2| 4200|         2|  592|14.095238095238095|\n",
      "|         0|36212|         0| 2986|  8.24588534187562|\n",
      "+----------+-----+----------+-----+------------------+\n",
      "\n"
     ]
    }
   ],
   "source": [
    "import pyspark.sql.functions as F\n",
    "\n",
    "df1 = cluster_dataset.groupBy('prediction').count().alias(\"Numppl\")\n",
    "df2 = cluster_dataset.filter(\"is_churn =='1'\").groupby(\"prediction\").count().alias(\"churncount\")\n",
    "inner_join = df1.join(df2, df1.prediction == df2.prediction).withColumn(\"ChurnPer\", (100*(F.col(\"churncount.count\") / F.col(\"Numppl.count\"))))\n",
    "inner_join.show()"
   ]
  },
  {
   "cell_type": "markdown",
   "metadata": {},
   "source": [
    "**Cluster Analysis**"
   ]
  },
  {
   "cell_type": "markdown",
   "metadata": {},
   "source": [
    "We have analyzed the high and low value customers by studying the clusters 1, 5 and 6. \n",
    "We chose these clusters as we are interested in analyzing the larger population, accordingly these clusters have large number of customers as compared to the other clusters.\n",
    "\n",
    "1. We can see that cluster 1 and 6 has high amount of churn (~14%) with respect to the total number of people in it (49987 and 51424). These are in the RED CATEGORY - High probability to churn.\n",
    "2. We can see that cluster 5 has less amount of churn (~11%) with respect to the total number of people in it(57577).These are the GREEN CATEGORY as these are high value customers with lowest probability of churn."
   ]
  },
  {
   "cell_type": "markdown",
   "metadata": {},
   "source": [
    "## Recommendations And Conclusion"
   ]
  },
  {
   "cell_type": "markdown",
   "metadata": {
    "collapsed": true
   },
   "source": [
    "1. High value customers had less number of auto renewals. Hence we recommend the KKBox marketing team to focus on manually renewing the subscriptions or getting them on the auto renewal subscription plan. \n",
    "2. Most of the customers were between 27-30 age group. These were the active customers and the KKBox teams should focus on marketing and updating the application based on the general requirements in this age group.\n",
    "3. The low value customers in RED CATEGORY should be given more discount to stop the churning.\n",
    "4. It is observed that even with high churning, large number of these customers complete listening the entire songs. They should be constantly recommended their most heard songs and similar songs to stop them from churning.\n",
    "5. We see from the discount feature that KKBOX offers less discount to its customers, and hence to retain its existing happy customers and the ones in the red category, we believe that more offers and discounts should be given."
   ]
  },
  {
   "cell_type": "code",
   "execution_count": null,
   "metadata": {
    "collapsed": true
   },
   "outputs": [],
   "source": []
  }
 ],
 "metadata": {
  "kernelspec": {
   "display_name": "Python 2",
   "language": "python",
   "name": "python2"
  },
  "language_info": {
   "codemirror_mode": {
    "name": "ipython",
    "version": 2
   },
   "file_extension": ".py",
   "mimetype": "text/x-python",
   "name": "python",
   "nbconvert_exporter": "python",
   "pygments_lexer": "ipython2",
   "version": "2.7.13"
  },
  "name": "Customer Churn",
  "notebookId": 1834554162248033
 },
 "nbformat": 4,
 "nbformat_minor": 0
}
